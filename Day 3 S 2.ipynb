{
 "cells": [
  {
   "cell_type": "markdown",
   "id": "f086d696",
   "metadata": {},
   "source": [
    "# Exception Handling"
   ]
  },
  {
   "cell_type": "markdown",
   "id": "c1908bf9",
   "metadata": {},
   "source": [
    "### Compile time error -- During Code, Syntax\n",
    "### Runtime Error: We have to maintain the same order like below to run the code"
   ]
  },
  {
   "cell_type": "code",
   "execution_count": 1,
   "id": "7a6971d4",
   "metadata": {},
   "outputs": [
    {
     "name": "stdout",
     "output_type": "stream",
     "text": [
      "There is no one here\n",
      "7565\n"
     ]
    }
   ],
   "source": [
    "try:\n",
    "    f = open(\"hey.txt\")\n",
    "    f.write(\"Hey is Online\")\n",
    "except:\n",
    "    print(\"There is no one here\")\n",
    "else:\n",
    "    print(\"hey is here\")\n",
    "finally:\n",
    "    print(85*89)"
   ]
  },
  {
   "cell_type": "markdown",
   "id": "f9b28478",
   "metadata": {},
   "source": [
    "### Example:1"
   ]
  },
  {
   "cell_type": "code",
   "execution_count": 2,
   "id": "645cb396",
   "metadata": {},
   "outputs": [],
   "source": [
    "def queryint():\n",
    "    try:\n",
    "        v = int(input(\"Enter an Integer\"))\n",
    "    except Exception as e:\n",
    "        print(e)\n",
    "    finally :\n",
    "        print(\"This is Finally Block\")\n",
    "        \n",
    "        try:\n",
    "            print(v)\n",
    "        except Exception as e:\n",
    "            print(e)    \n",
    "        else:\n",
    "            print(\"It is working\")"
   ]
  },
  {
   "cell_type": "code",
   "execution_count": 3,
   "id": "d151c063",
   "metadata": {},
   "outputs": [
    {
     "name": "stdout",
     "output_type": "stream",
     "text": [
      "Enter an Integer253\n",
      "This is Finally Block\n",
      "253\n",
      "It is working\n"
     ]
    }
   ],
   "source": [
    "queryint()"
   ]
  },
  {
   "cell_type": "markdown",
   "id": "e67ed442",
   "metadata": {},
   "source": [
    "### Example :2"
   ]
  },
  {
   "cell_type": "code",
   "execution_count": 4,
   "id": "12eee49d",
   "metadata": {},
   "outputs": [],
   "source": [
    "def onlyint():\n",
    "    while True:\n",
    "        try:\n",
    "            v = int(input(\"Enter only Integer\"))\n",
    "        except Exception as e:\n",
    "            print(e)\n",
    "            continue\n",
    "        else:\n",
    "            print(\"yay! You got the Answer\")\n",
    "            break\n",
    "        finally:\n",
    "            print(\"I am the Final Man\")"
   ]
  },
  {
   "cell_type": "code",
   "execution_count": 5,
   "id": "21f62c5f",
   "metadata": {},
   "outputs": [
    {
     "name": "stdout",
     "output_type": "stream",
     "text": [
      "Enter only Integer52\n",
      "yay! You got the Answer\n",
      "I am the Final Man\n"
     ]
    }
   ],
   "source": [
    "onlyint()"
   ]
  },
  {
   "cell_type": "markdown",
   "id": "005dd14f",
   "metadata": {},
   "source": [
    "#### Error Handling"
   ]
  },
  {
   "cell_type": "code",
   "execution_count": 10,
   "id": "e1442a74",
   "metadata": {},
   "outputs": [
    {
     "name": "stdout",
     "output_type": "stream",
     "text": [
      "OS\n"
     ]
    }
   ],
   "source": [
    "try:\n",
    "    f = open(\"yes.txt\")\n",
    "    f.write(\"Okay i got you\")\n",
    "except FileExistsError as e:\n",
    "    print(\"File Exists\")\n",
    "except ValueError:\n",
    "    print(\"Value\")\n",
    "except OSError:\n",
    "    print(\"OS\")\n",
    "except IOError:\n",
    "    print(\"IO\")\n",
    "except Exception as e:\n",
    "    print(\"Super Exception\")"
   ]
  },
  {
   "cell_type": "code",
   "execution_count": 7,
   "id": "f27eaaae",
   "metadata": {},
   "outputs": [
    {
     "name": "stdout",
     "output_type": "stream",
     "text": [
      "Hey, I Can't Move, There is an Error in this Code\n"
     ]
    }
   ],
   "source": [
    "try:\n",
    "    f = open(\"hey.txt\")\n",
    "    f.write(\"Yes\")\n",
    "except (FileExistsError,ValueError,Exception):\n",
    "    print(\"Hey, I Can't Move, There is an Error in this Code\")"
   ]
  },
  {
   "cell_type": "markdown",
   "id": "54ca8e1c",
   "metadata": {},
   "source": [
    "### Creating Own Kind of Exception\n",
    "\n",
    "#### raise - is a key word to raise your code at any point of time"
   ]
  },
  {
   "cell_type": "code",
   "execution_count": 15,
   "id": "e66130a8",
   "metadata": {},
   "outputs": [
    {
     "name": "stdout",
     "output_type": "stream",
     "text": [
      "Put only Int Here : 56\n"
     ]
    }
   ],
   "source": [
    "try:\n",
    "    v = int(input(\"Put only Int Here : \"))\n",
    "    f = 40/v\n",
    "    if v == 2:\n",
    "        raise ValueError(\"Dude, You Made A Shit!\")\n",
    "except ValueError as e:\n",
    "    print(e)"
   ]
  },
  {
   "cell_type": "code",
   "execution_count": null,
   "id": "391ad276",
   "metadata": {},
   "outputs": [],
   "source": []
  }
 ],
 "metadata": {
  "kernelspec": {
   "display_name": "Python 3 (ipykernel)",
   "language": "python",
   "name": "python3"
  },
  "language_info": {
   "codemirror_mode": {
    "name": "ipython",
    "version": 3
   },
   "file_extension": ".py",
   "mimetype": "text/x-python",
   "name": "python",
   "nbconvert_exporter": "python",
   "pygments_lexer": "ipython3",
   "version": "3.10.9"
  }
 },
 "nbformat": 4,
 "nbformat_minor": 5
}
