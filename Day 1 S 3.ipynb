{
 "cells": [
  {
   "cell_type": "markdown",
   "id": "3240d11e",
   "metadata": {},
   "source": [
    "# String Objects and Collections "
   ]
  },
  {
   "cell_type": "markdown",
   "id": "2a362042",
   "metadata": {},
   "source": [
    "InBuilt Functions"
   ]
  },
  {
   "cell_type": "code",
   "execution_count": 1,
   "id": "b44fa4a1",
   "metadata": {},
   "outputs": [],
   "source": [
    "a = 'Hey i am a computer program'"
   ]
  },
  {
   "cell_type": "code",
   "execution_count": 2,
   "id": "f5bd7b5f",
   "metadata": {},
   "outputs": [
    {
     "data": {
      "text/plain": [
       "'Hey i am a computer program'"
      ]
     },
     "execution_count": 2,
     "metadata": {},
     "output_type": "execute_result"
    }
   ],
   "source": [
    "a"
   ]
  },
  {
   "cell_type": "code",
   "execution_count": 3,
   "id": "f683ad5e",
   "metadata": {},
   "outputs": [
    {
     "data": {
      "text/plain": [
       "'HEY I AM A COMPUTER PROGRAM'"
      ]
     },
     "execution_count": 3,
     "metadata": {},
     "output_type": "execute_result"
    }
   ],
   "source": [
    "a.upper()"
   ]
  },
  {
   "cell_type": "code",
   "execution_count": 4,
   "id": "e13e030f",
   "metadata": {},
   "outputs": [
    {
     "data": {
      "text/plain": [
       "'Hey i am a computer program'"
      ]
     },
     "execution_count": 4,
     "metadata": {},
     "output_type": "execute_result"
    }
   ],
   "source": [
    "a.capitalize()"
   ]
  },
  {
   "cell_type": "code",
   "execution_count": 5,
   "id": "8862fcee",
   "metadata": {},
   "outputs": [
    {
     "data": {
      "text/plain": [
       "'hey i am a computer program'"
      ]
     },
     "execution_count": 5,
     "metadata": {},
     "output_type": "execute_result"
    }
   ],
   "source": [
    "a.lower()"
   ]
  },
  {
   "cell_type": "code",
   "execution_count": 6,
   "id": "81ce2b97",
   "metadata": {},
   "outputs": [
    {
     "data": {
      "text/plain": [
       "['Hey', 'i', 'am', 'a', 'computer', 'program']"
      ]
     },
     "execution_count": 6,
     "metadata": {},
     "output_type": "execute_result"
    }
   ],
   "source": [
    "a.split()"
   ]
  },
  {
   "cell_type": "code",
   "execution_count": 7,
   "id": "b762972d",
   "metadata": {},
   "outputs": [],
   "source": [
    "b = 'Hye@fkjnsdj@ndsivun@'"
   ]
  },
  {
   "cell_type": "code",
   "execution_count": 8,
   "id": "57265a96",
   "metadata": {},
   "outputs": [
    {
     "data": {
      "text/plain": [
       "'Hye@fkjnsdj@ndsivun@'"
      ]
     },
     "execution_count": 8,
     "metadata": {},
     "output_type": "execute_result"
    }
   ],
   "source": [
    "b"
   ]
  },
  {
   "cell_type": "code",
   "execution_count": 9,
   "id": "eb339a55",
   "metadata": {},
   "outputs": [
    {
     "data": {
      "text/plain": [
       "['Hye', 'fkjnsdj', 'ndsivun', '']"
      ]
     },
     "execution_count": 9,
     "metadata": {},
     "output_type": "execute_result"
    }
   ],
   "source": [
    "b.split('@')"
   ]
  },
  {
   "cell_type": "code",
   "execution_count": 10,
   "id": "cb69eb16",
   "metadata": {},
   "outputs": [
    {
     "data": {
      "text/plain": [
       "['', 'ey i am a computer program']"
      ]
     },
     "execution_count": 10,
     "metadata": {},
     "output_type": "execute_result"
    }
   ],
   "source": [
    "a.split('H')"
   ]
  },
  {
   "cell_type": "code",
   "execution_count": 11,
   "id": "35907428",
   "metadata": {},
   "outputs": [
    {
     "data": {
      "text/plain": [
       "tuple"
      ]
     },
     "execution_count": 11,
     "metadata": {},
     "output_type": "execute_result"
    }
   ],
   "source": [
    "type(a.partition('H'))"
   ]
  },
  {
   "cell_type": "code",
   "execution_count": 12,
   "id": "7a9cf97e",
   "metadata": {},
   "outputs": [
    {
     "data": {
      "text/plain": [
       "('', 'H', 'ey i am a computer program')"
      ]
     },
     "execution_count": 12,
     "metadata": {},
     "output_type": "execute_result"
    }
   ],
   "source": [
    "a.partition('H')"
   ]
  },
  {
   "cell_type": "code",
   "execution_count": 13,
   "id": "6c65bfd6",
   "metadata": {},
   "outputs": [
    {
     "data": {
      "text/plain": [
       "-1"
      ]
     },
     "execution_count": 13,
     "metadata": {},
     "output_type": "execute_result"
    }
   ],
   "source": [
    "b.find(a)"
   ]
  },
  {
   "cell_type": "code",
   "execution_count": 14,
   "id": "2dfbd003",
   "metadata": {},
   "outputs": [
    {
     "data": {
      "text/plain": [
       "'mmmmmmmmmmmHey i am a computer programmmmmmmmmmmmm'"
      ]
     },
     "execution_count": 14,
     "metadata": {},
     "output_type": "execute_result"
    }
   ],
   "source": [
    "a.center(50,'m')"
   ]
  },
  {
   "cell_type": "code",
   "execution_count": 15,
   "id": "b327a2d7",
   "metadata": {},
   "outputs": [],
   "source": [
    "a.expandtabs()\n",
    "v = \"hey\\tthis\\tis\\tme\""
   ]
  },
  {
   "cell_type": "code",
   "execution_count": 16,
   "id": "4a98ab36",
   "metadata": {},
   "outputs": [
    {
     "data": {
      "text/plain": [
       "'hey     this    is      me'"
      ]
     },
     "execution_count": 16,
     "metadata": {},
     "output_type": "execute_result"
    }
   ],
   "source": [
    "v.expandtabs()"
   ]
  },
  {
   "cell_type": "code",
   "execution_count": 17,
   "id": "6016c85b",
   "metadata": {},
   "outputs": [
    {
     "data": {
      "text/plain": [
       "'Hey i am a computer program'"
      ]
     },
     "execution_count": 17,
     "metadata": {},
     "output_type": "execute_result"
    }
   ],
   "source": [
    "a.format()"
   ]
  },
  {
   "cell_type": "code",
   "execution_count": 18,
   "id": "1afd64d4",
   "metadata": {},
   "outputs": [
    {
     "data": {
      "text/plain": [
       "'Hey i am a Client Based  computer program'"
      ]
     },
     "execution_count": 18,
     "metadata": {},
     "output_type": "execute_result"
    }
   ],
   "source": [
    "'Hey i am a {} computer program'.format('Client Based ')"
   ]
  },
  {
   "cell_type": "code",
   "execution_count": 19,
   "id": "daaf5712",
   "metadata": {},
   "outputs": [],
   "source": [
    "m = 'Hey i am a {} computer program'"
   ]
  },
  {
   "cell_type": "code",
   "execution_count": 20,
   "id": "90946d24",
   "metadata": {},
   "outputs": [
    {
     "data": {
      "text/plain": [
       "'Hey i am a Server computer program'"
      ]
     },
     "execution_count": 20,
     "metadata": {},
     "output_type": "execute_result"
    }
   ],
   "source": [
    "m.format('Server')"
   ]
  },
  {
   "cell_type": "markdown",
   "id": "ae6f7e88",
   "metadata": {},
   "source": [
    "#### As we mentioned two inputs and while in text we mentioned two Curly Braces check the below line for the right code"
   ]
  },
  {
   "cell_type": "code",
   "execution_count": 62,
   "id": "e6c945dc",
   "metadata": {},
   "outputs": [
    {
     "name": "stdout",
     "output_type": "stream",
     "text": [
      "What type of program i am ? and its workingYes\n"
     ]
    },
    {
     "ename": "IndexError",
     "evalue": "Replacement index 1 out of range for positional args tuple",
     "output_type": "error",
     "traceback": [
      "\u001b[1;31m---------------------------------------------------------------------------\u001b[0m",
      "\u001b[1;31mIndexError\u001b[0m                                Traceback (most recent call last)",
      "Cell \u001b[1;32mIn[62], line 2\u001b[0m\n\u001b[0;32m      1\u001b[0m m \u001b[38;5;241m=\u001b[39m \u001b[38;5;28minput\u001b[39m(\u001b[38;5;124m\"\u001b[39m\u001b[38;5;124mWhat type of program i am ? and its working\u001b[39m\u001b[38;5;124m\"\u001b[39m)\n\u001b[1;32m----> 2\u001b[0m \u001b[38;5;124;43m'\u001b[39;49m\u001b[38;5;124;43mHey i am a \u001b[39;49m\u001b[38;5;132;43;01m{}\u001b[39;49;00m\u001b[38;5;124;43m \u001b[39;49m\u001b[38;5;132;43;01m{}\u001b[39;49;00m\u001b[38;5;124;43m computer program\u001b[39;49m\u001b[38;5;124;43m'\u001b[39;49m\u001b[38;5;241;43m.\u001b[39;49m\u001b[43mformat\u001b[49m\u001b[43m(\u001b[49m\u001b[43mm\u001b[49m\u001b[43m)\u001b[49m\n",
      "\u001b[1;31mIndexError\u001b[0m: Replacement index 1 out of range for positional args tuple"
     ]
    }
   ],
   "source": [
    "m = input(\"What type of program i am ? and its working\")\n",
    "'Hey i am a {} {} computer program'.format(m)"
   ]
  },
  {
   "cell_type": "code",
   "execution_count": 63,
   "id": "de08d299",
   "metadata": {},
   "outputs": [
    {
     "name": "stdout",
     "output_type": "stream",
     "text": [
      "What type of program i am ?LInux\n",
      " and its workingKernel OS\n"
     ]
    },
    {
     "data": {
      "text/plain": [
       "'Hey i am a LInux Kernel OS computer program'"
      ]
     },
     "execution_count": 63,
     "metadata": {},
     "output_type": "execute_result"
    }
   ],
   "source": [
    "m = input(\"What type of program i am ?\")\n",
    "n  = input(\" and its working\")\n",
    "'Hey i am a {} {} computer program'.format(m,n)"
   ]
  },
  {
   "cell_type": "code",
   "execution_count": 64,
   "id": "4f852f3a",
   "metadata": {},
   "outputs": [],
   "source": [
    "s = \"Yeah\""
   ]
  },
  {
   "cell_type": "code",
   "execution_count": 24,
   "id": "e6049aab",
   "metadata": {},
   "outputs": [
    {
     "data": {
      "text/plain": [
       "True"
      ]
     },
     "execution_count": 24,
     "metadata": {},
     "output_type": "execute_result"
    }
   ],
   "source": [
    "s.isalnum()"
   ]
  },
  {
   "cell_type": "code",
   "execution_count": 25,
   "id": "a8dc3821",
   "metadata": {},
   "outputs": [
    {
     "data": {
      "text/plain": [
       "True"
      ]
     },
     "execution_count": 25,
     "metadata": {},
     "output_type": "execute_result"
    }
   ],
   "source": [
    "s.isalpha()"
   ]
  },
  {
   "cell_type": "code",
   "execution_count": 26,
   "id": "43a87a06",
   "metadata": {},
   "outputs": [
    {
     "data": {
      "text/plain": [
       "False"
      ]
     },
     "execution_count": 26,
     "metadata": {},
     "output_type": "execute_result"
    }
   ],
   "source": [
    "s.isdecimal()"
   ]
  },
  {
   "cell_type": "code",
   "execution_count": 27,
   "id": "c8c034db",
   "metadata": {},
   "outputs": [
    {
     "data": {
      "text/plain": [
       "False"
      ]
     },
     "execution_count": 27,
     "metadata": {},
     "output_type": "execute_result"
    }
   ],
   "source": [
    "s.isupper()"
   ]
  },
  {
   "cell_type": "code",
   "execution_count": 28,
   "id": "493a5898",
   "metadata": {},
   "outputs": [
    {
     "data": {
      "text/plain": [
       "False"
      ]
     },
     "execution_count": 28,
     "metadata": {},
     "output_type": "execute_result"
    }
   ],
   "source": [
    "s.isnumeric()"
   ]
  },
  {
   "cell_type": "code",
   "execution_count": 29,
   "id": "6ba243d5",
   "metadata": {},
   "outputs": [
    {
     "data": {
      "text/plain": [
       "False"
      ]
     },
     "execution_count": 29,
     "metadata": {},
     "output_type": "execute_result"
    }
   ],
   "source": [
    "s.endswith('s')"
   ]
  },
  {
   "cell_type": "code",
   "execution_count": 30,
   "id": "d46e8bf7",
   "metadata": {},
   "outputs": [
    {
     "data": {
      "text/plain": [
       "True"
      ]
     },
     "execution_count": 30,
     "metadata": {},
     "output_type": "execute_result"
    }
   ],
   "source": [
    "s.endswith('h')"
   ]
  },
  {
   "cell_type": "code",
   "execution_count": 31,
   "id": "766e3b68",
   "metadata": {},
   "outputs": [
    {
     "data": {
      "text/plain": [
       "4"
      ]
     },
     "execution_count": 31,
     "metadata": {},
     "output_type": "execute_result"
    }
   ],
   "source": [
    "len(s)"
   ]
  },
  {
   "cell_type": "code",
   "execution_count": 32,
   "id": "2674138f",
   "metadata": {},
   "outputs": [],
   "source": [
    "s = ['Dear']"
   ]
  },
  {
   "cell_type": "code",
   "execution_count": 33,
   "id": "d244539f",
   "metadata": {},
   "outputs": [
    {
     "name": "stdout",
     "output_type": "stream",
     "text": [
      "['Dear']\n"
     ]
    }
   ],
   "source": [
    "print(s)"
   ]
  },
  {
   "cell_type": "code",
   "execution_count": 34,
   "id": "c72b115c",
   "metadata": {},
   "outputs": [
    {
     "data": {
      "text/plain": [
       "['Dear', 'Yo']"
      ]
     },
     "execution_count": 34,
     "metadata": {},
     "output_type": "execute_result"
    }
   ],
   "source": [
    "s.append(\"Yo\")\n",
    "s"
   ]
  },
  {
   "cell_type": "code",
   "execution_count": 35,
   "id": "65589a25",
   "metadata": {},
   "outputs": [],
   "source": [
    "s.insert(1,'Yes')"
   ]
  },
  {
   "cell_type": "code",
   "execution_count": 36,
   "id": "ca73be91",
   "metadata": {},
   "outputs": [
    {
     "data": {
      "text/plain": [
       "['Dear', 'Yes', 'Yo']"
      ]
     },
     "execution_count": 36,
     "metadata": {},
     "output_type": "execute_result"
    }
   ],
   "source": [
    "s"
   ]
  },
  {
   "cell_type": "code",
   "execution_count": 37,
   "id": "1e584344",
   "metadata": {},
   "outputs": [
    {
     "data": {
      "text/plain": [
       "'Yo'"
      ]
     },
     "execution_count": 37,
     "metadata": {},
     "output_type": "execute_result"
    }
   ],
   "source": [
    "s.pop()"
   ]
  },
  {
   "cell_type": "code",
   "execution_count": 38,
   "id": "7dd217dc",
   "metadata": {},
   "outputs": [
    {
     "data": {
      "text/plain": [
       "['Yes', 'Dear']"
      ]
     },
     "execution_count": 38,
     "metadata": {},
     "output_type": "execute_result"
    }
   ],
   "source": [
    "s[::-1]"
   ]
  },
  {
   "cell_type": "code",
   "execution_count": 39,
   "id": "2aef255b",
   "metadata": {},
   "outputs": [],
   "source": [
    "s.reverse()"
   ]
  },
  {
   "cell_type": "code",
   "execution_count": 40,
   "id": "ae6723d7",
   "metadata": {},
   "outputs": [
    {
     "data": {
      "text/plain": [
       "['Yes', 'Dear']"
      ]
     },
     "execution_count": 40,
     "metadata": {},
     "output_type": "execute_result"
    }
   ],
   "source": [
    "s"
   ]
  },
  {
   "cell_type": "code",
   "execution_count": 41,
   "id": "b2075585",
   "metadata": {},
   "outputs": [],
   "source": [
    "s.sort()"
   ]
  },
  {
   "cell_type": "code",
   "execution_count": 42,
   "id": "9e99cb39",
   "metadata": {},
   "outputs": [
    {
     "data": {
      "text/plain": [
       "['Dear', 'Yes']"
      ]
     },
     "execution_count": 42,
     "metadata": {},
     "output_type": "execute_result"
    }
   ],
   "source": [
    "s"
   ]
  },
  {
   "cell_type": "code",
   "execution_count": 43,
   "id": "7a7abd62",
   "metadata": {},
   "outputs": [],
   "source": [
    "a  = [1,232,4,3,45,53]\n",
    "b  = [77,57,57,57,44,77,89]\n",
    "c = [12,123,4432,4123]"
   ]
  },
  {
   "cell_type": "code",
   "execution_count": 44,
   "id": "63deae7a",
   "metadata": {},
   "outputs": [],
   "source": [
    "d = [a,b,c]"
   ]
  },
  {
   "cell_type": "code",
   "execution_count": 45,
   "id": "c86984e3",
   "metadata": {},
   "outputs": [
    {
     "data": {
      "text/plain": [
       "[[1, 232, 4, 3, 45, 53], [77, 57, 57, 57, 44, 77, 89], [12, 123, 4432, 4123]]"
      ]
     },
     "execution_count": 45,
     "metadata": {},
     "output_type": "execute_result"
    }
   ],
   "source": [
    "d"
   ]
  },
  {
   "cell_type": "code",
   "execution_count": 46,
   "id": "13a128d5",
   "metadata": {},
   "outputs": [
    {
     "data": {
      "text/plain": [
       "[1, 232, 4, 3, 45, 53]"
      ]
     },
     "execution_count": 46,
     "metadata": {},
     "output_type": "execute_result"
    }
   ],
   "source": [
    "d[0]"
   ]
  },
  {
   "cell_type": "code",
   "execution_count": 47,
   "id": "92abd202",
   "metadata": {},
   "outputs": [
    {
     "data": {
      "text/plain": [
       "[4123, 4432, 123, 12]"
      ]
     },
     "execution_count": 47,
     "metadata": {},
     "output_type": "execute_result"
    }
   ],
   "source": [
    "d[-1][::-1]"
   ]
  },
  {
   "cell_type": "code",
   "execution_count": 48,
   "id": "e3719998",
   "metadata": {},
   "outputs": [],
   "source": [
    "m = []\n",
    "d = d[::-1]\n",
    "for i in d:\n",
    "    m.append(i[::-1])"
   ]
  },
  {
   "cell_type": "code",
   "execution_count": 49,
   "id": "836d171e",
   "metadata": {},
   "outputs": [
    {
     "data": {
      "text/plain": [
       "[[12, 123, 4432, 4123], [77, 57, 57, 57, 44, 77, 89], [1, 232, 4, 3, 45, 53]]"
      ]
     },
     "execution_count": 49,
     "metadata": {},
     "output_type": "execute_result"
    }
   ],
   "source": [
    "d"
   ]
  },
  {
   "cell_type": "code",
   "execution_count": 50,
   "id": "7c819328",
   "metadata": {},
   "outputs": [
    {
     "data": {
      "text/plain": [
       "[[4123, 4432, 123, 12], [89, 77, 44, 57, 57, 57, 77], [53, 45, 3, 4, 232, 1]]"
      ]
     },
     "execution_count": 50,
     "metadata": {},
     "output_type": "execute_result"
    }
   ],
   "source": [
    "m"
   ]
  },
  {
   "cell_type": "code",
   "execution_count": 51,
   "id": "68323a22",
   "metadata": {},
   "outputs": [],
   "source": [
    "m = []\n",
    "d.reverse()\n",
    "for i in d:\n",
    "    m.append(d[::-1])"
   ]
  },
  {
   "cell_type": "code",
   "execution_count": 52,
   "id": "6abee0e1",
   "metadata": {},
   "outputs": [
    {
     "data": {
      "text/plain": [
       "[[[12, 123, 4432, 4123], [77, 57, 57, 57, 44, 77, 89], [1, 232, 4, 3, 45, 53]],\n",
       " [[12, 123, 4432, 4123], [77, 57, 57, 57, 44, 77, 89], [1, 232, 4, 3, 45, 53]],\n",
       " [[12, 123, 4432, 4123], [77, 57, 57, 57, 44, 77, 89], [1, 232, 4, 3, 45, 53]]]"
      ]
     },
     "execution_count": 52,
     "metadata": {},
     "output_type": "execute_result"
    }
   ],
   "source": [
    "m"
   ]
  },
  {
   "cell_type": "code",
   "execution_count": 53,
   "id": "4c8ba6fd",
   "metadata": {},
   "outputs": [],
   "source": [
    "n = []\n",
    "for i in m:\n",
    "    n.append(i[1]*2)"
   ]
  },
  {
   "cell_type": "code",
   "execution_count": 54,
   "id": "4bbcd000",
   "metadata": {},
   "outputs": [
    {
     "data": {
      "text/plain": [
       "[[77, 57, 57, 57, 44, 77, 89, 77, 57, 57, 57, 44, 77, 89],\n",
       " [77, 57, 57, 57, 44, 77, 89, 77, 57, 57, 57, 44, 77, 89],\n",
       " [77, 57, 57, 57, 44, 77, 89, 77, 57, 57, 57, 44, 77, 89],\n",
       " [77, 57, 57, 57, 44, 77, 89, 77, 57, 57, 57, 44, 77, 89],\n",
       " [77, 57, 57, 57, 44, 77, 89, 77, 57, 57, 57, 44, 77, 89],\n",
       " [77, 57, 57, 57, 44, 77, 89, 77, 57, 57, 57, 44, 77, 89]]"
      ]
     },
     "execution_count": 54,
     "metadata": {},
     "output_type": "execute_result"
    }
   ],
   "source": [
    "n*2"
   ]
  },
  {
   "cell_type": "code",
   "execution_count": 55,
   "id": "60e625ca",
   "metadata": {},
   "outputs": [
    {
     "data": {
      "text/plain": [
       "[[77, 57, 57, 57, 44, 77, 89, 77, 57, 57, 57, 44, 77, 89],\n",
       " [77, 57, 57, 57, 44, 77, 89, 77, 57, 57, 57, 44, 77, 89],\n",
       " [77, 57, 57, 57, 44, 77, 89, 77, 57, 57, 57, 44, 77, 89]]"
      ]
     },
     "execution_count": 55,
     "metadata": {},
     "output_type": "execute_result"
    }
   ],
   "source": [
    "[i[1]*2 for i in m]"
   ]
  },
  {
   "cell_type": "code",
   "execution_count": 56,
   "id": "6f8d62ca",
   "metadata": {},
   "outputs": [],
   "source": [
    "m.extend(['hey i am here only'])"
   ]
  },
  {
   "cell_type": "code",
   "execution_count": 57,
   "id": "aa1d62bc",
   "metadata": {},
   "outputs": [
    {
     "data": {
      "text/plain": [
       "[[[12, 123, 4432, 4123], [77, 57, 57, 57, 44, 77, 89], [1, 232, 4, 3, 45, 53]],\n",
       " [[12, 123, 4432, 4123], [77, 57, 57, 57, 44, 77, 89], [1, 232, 4, 3, 45, 53]],\n",
       " [[12, 123, 4432, 4123], [77, 57, 57, 57, 44, 77, 89], [1, 232, 4, 3, 45, 53]],\n",
       " 'hey i am here only']"
      ]
     },
     "execution_count": 57,
     "metadata": {},
     "output_type": "execute_result"
    }
   ],
   "source": [
    "m"
   ]
  },
  {
   "cell_type": "code",
   "execution_count": 58,
   "id": "4bea9f2e",
   "metadata": {},
   "outputs": [],
   "source": [
    "m.append([\"Thanks for promoting this\"])"
   ]
  },
  {
   "cell_type": "code",
   "execution_count": 59,
   "id": "0d6a701e",
   "metadata": {},
   "outputs": [
    {
     "data": {
      "text/plain": [
       "[[[12, 123, 4432, 4123], [77, 57, 57, 57, 44, 77, 89], [1, 232, 4, 3, 45, 53]],\n",
       " [[12, 123, 4432, 4123], [77, 57, 57, 57, 44, 77, 89], [1, 232, 4, 3, 45, 53]],\n",
       " [[12, 123, 4432, 4123], [77, 57, 57, 57, 44, 77, 89], [1, 232, 4, 3, 45, 53]],\n",
       " 'hey i am here only',\n",
       " ['Thanks for promoting this']]"
      ]
     },
     "execution_count": 59,
     "metadata": {},
     "output_type": "execute_result"
    }
   ],
   "source": [
    "m"
   ]
  },
  {
   "cell_type": "code",
   "execution_count": 60,
   "id": "47f562bf",
   "metadata": {},
   "outputs": [
    {
     "data": {
      "text/plain": [
       "3"
      ]
     },
     "execution_count": 60,
     "metadata": {},
     "output_type": "execute_result"
    }
   ],
   "source": [
    "m.index('hey i am here only')"
   ]
  }
 ],
 "metadata": {
  "kernelspec": {
   "display_name": "Python 3 (ipykernel)",
   "language": "python",
   "name": "python3"
  },
  "language_info": {
   "codemirror_mode": {
    "name": "ipython",
    "version": 3
   },
   "file_extension": ".py",
   "mimetype": "text/x-python",
   "name": "python",
   "nbconvert_exporter": "python",
   "pygments_lexer": "ipython3",
   "version": "3.10.9"
  }
 },
 "nbformat": 4,
 "nbformat_minor": 5
}
