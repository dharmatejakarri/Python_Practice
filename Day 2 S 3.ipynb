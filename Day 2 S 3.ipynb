{
 "cells": [
  {
   "cell_type": "markdown",
   "id": "84219484",
   "metadata": {},
   "source": [
    "# OOPS Object Oriented Programming"
   ]
  },
  {
   "cell_type": "markdown",
   "id": "7e5bc28a",
   "metadata": {},
   "source": [
    "Class and Objects "
   ]
  },
  {
   "cell_type": "markdown",
   "id": "aeb97294",
   "metadata": {},
   "source": [
    "### Method 2 is preferred way to do this, and it is less confusing"
   ]
  },
  {
   "cell_type": "code",
   "execution_count": 1,
   "id": "9664ef7a",
   "metadata": {},
   "outputs": [],
   "source": [
    "i = 10"
   ]
  },
  {
   "cell_type": "code",
   "execution_count": 2,
   "id": "245c1b94",
   "metadata": {},
   "outputs": [
    {
     "data": {
      "text/plain": [
       "10"
      ]
     },
     "execution_count": 2,
     "metadata": {},
     "output_type": "execute_result"
    }
   ],
   "source": [
    "i"
   ]
  },
  {
   "cell_type": "code",
   "execution_count": 3,
   "id": "feedbdfc",
   "metadata": {},
   "outputs": [
    {
     "data": {
      "text/plain": [
       "int"
      ]
     },
     "execution_count": 3,
     "metadata": {},
     "output_type": "execute_result"
    }
   ],
   "source": [
    "type(i)"
   ]
  },
  {
   "cell_type": "code",
   "execution_count": 4,
   "id": "15349739",
   "metadata": {},
   "outputs": [
    {
     "name": "stdout",
     "output_type": "stream",
     "text": [
      "<class 'int'>\n"
     ]
    }
   ],
   "source": [
    "print(type(i))"
   ]
  },
  {
   "cell_type": "code",
   "execution_count": 5,
   "id": "3eea98f5",
   "metadata": {},
   "outputs": [],
   "source": [
    "i = 'DHarma'"
   ]
  },
  {
   "cell_type": "code",
   "execution_count": 6,
   "id": "8034863a",
   "metadata": {},
   "outputs": [
    {
     "data": {
      "text/plain": [
       "'DHarma'"
      ]
     },
     "execution_count": 6,
     "metadata": {},
     "output_type": "execute_result"
    }
   ],
   "source": [
    "i"
   ]
  },
  {
   "cell_type": "code",
   "execution_count": 7,
   "id": "fd8c763d",
   "metadata": {},
   "outputs": [
    {
     "name": "stdout",
     "output_type": "stream",
     "text": [
      "<class 'str'>\n"
     ]
    }
   ],
   "source": [
    "print(type(i))"
   ]
  },
  {
   "cell_type": "markdown",
   "id": "86987771",
   "metadata": {},
   "source": [
    "##  Method 1:"
   ]
  },
  {
   "cell_type": "code",
   "execution_count": 8,
   "id": "06c7f687",
   "metadata": {},
   "outputs": [],
   "source": [
    "class person():\n",
    "    pass"
   ]
  },
  {
   "cell_type": "code",
   "execution_count": 9,
   "id": "ce3afb34",
   "metadata": {},
   "outputs": [],
   "source": [
    "p = person()\n",
    "p.name = 'sam'\n",
    "p.surname = 'kumar'"
   ]
  },
  {
   "cell_type": "code",
   "execution_count": 10,
   "id": "8d306a6f",
   "metadata": {},
   "outputs": [
    {
     "data": {
      "text/plain": [
       "<__main__.person at 0x1d22e249e10>"
      ]
     },
     "execution_count": 10,
     "metadata": {},
     "output_type": "execute_result"
    }
   ],
   "source": [
    "p"
   ]
  },
  {
   "cell_type": "code",
   "execution_count": 11,
   "id": "b965bacd",
   "metadata": {},
   "outputs": [
    {
     "data": {
      "text/plain": [
       "__main__.person"
      ]
     },
     "execution_count": 11,
     "metadata": {},
     "output_type": "execute_result"
    }
   ],
   "source": [
    "type(p)"
   ]
  },
  {
   "cell_type": "code",
   "execution_count": 12,
   "id": "36939eba",
   "metadata": {},
   "outputs": [
    {
     "name": "stdout",
     "output_type": "stream",
     "text": [
      "<class '__main__.person'>\n"
     ]
    }
   ],
   "source": [
    "print(type(p))"
   ]
  },
  {
   "cell_type": "code",
   "execution_count": 13,
   "id": "7c009007",
   "metadata": {},
   "outputs": [
    {
     "data": {
      "text/plain": [
       "'sam'"
      ]
     },
     "execution_count": 13,
     "metadata": {},
     "output_type": "execute_result"
    }
   ],
   "source": [
    "p.name"
   ]
  },
  {
   "cell_type": "markdown",
   "id": "f891f206",
   "metadata": {},
   "source": [
    "## Method 2:"
   ]
  },
  {
   "cell_type": "code",
   "execution_count": 14,
   "id": "551564ee",
   "metadata": {},
   "outputs": [],
   "source": [
    "class person:\n",
    "    def __init__ (self,First_name, Last_name, YOB):\n",
    "        self.First_name = First_name\n",
    "        self.Last_name = Last_name\n",
    "        self.YOB = YOB"
   ]
  },
  {
   "cell_type": "code",
   "execution_count": 15,
   "id": "12726101",
   "metadata": {},
   "outputs": [],
   "source": [
    "p = person('Mummalaneni', 'Sahitya', 7072001)"
   ]
  },
  {
   "cell_type": "code",
   "execution_count": 16,
   "id": "b749b65b",
   "metadata": {},
   "outputs": [
    {
     "data": {
      "text/plain": [
       "<__main__.person at 0x1d22e24b820>"
      ]
     },
     "execution_count": 16,
     "metadata": {},
     "output_type": "execute_result"
    }
   ],
   "source": [
    "p"
   ]
  },
  {
   "cell_type": "code",
   "execution_count": 17,
   "id": "7c6b93df",
   "metadata": {},
   "outputs": [
    {
     "name": "stdout",
     "output_type": "stream",
     "text": [
      "<__main__.person object at 0x000001D22E24B820>\n"
     ]
    }
   ],
   "source": [
    "print(p)"
   ]
  },
  {
   "cell_type": "code",
   "execution_count": 18,
   "id": "d4720f7e",
   "metadata": {},
   "outputs": [],
   "source": [
    "q = person('Karri','Dharma Teja', 25022001)"
   ]
  },
  {
   "cell_type": "code",
   "execution_count": 19,
   "id": "9e300353",
   "metadata": {},
   "outputs": [
    {
     "data": {
      "text/plain": [
       "'Mummalaneni'"
      ]
     },
     "execution_count": 19,
     "metadata": {},
     "output_type": "execute_result"
    }
   ],
   "source": [
    "p.First_name"
   ]
  },
  {
   "cell_type": "code",
   "execution_count": 20,
   "id": "2870cecd",
   "metadata": {},
   "outputs": [
    {
     "data": {
      "text/plain": [
       "'Karri'"
      ]
     },
     "execution_count": 20,
     "metadata": {},
     "output_type": "execute_result"
    }
   ],
   "source": [
    "q.First_name"
   ]
  },
  {
   "cell_type": "markdown",
   "id": "72992641",
   "metadata": {},
   "source": [
    "#### Example 1:"
   ]
  },
  {
   "cell_type": "code",
   "execution_count": 21,
   "id": "0740f7cc",
   "metadata": {},
   "outputs": [],
   "source": [
    "class employee:\n",
    "    \n",
    "    def __init__(self, Name, Surname, DOB):\n",
    "        self.Name = Name\n",
    "        self.Surname = Surname\n",
    "        self.DOB = DOB\n",
    "        \n",
    "    def test(self,n,m):\n",
    "        return n+m+self.DOB\n",
    "    \n",
    "    def __str__(self):\n",
    "        return \"%s is a Name and its Surname is %s and date of birth is %d\"%(self.Name, self.Surname, self.DOB)"
   ]
  },
  {
   "cell_type": "code",
   "execution_count": 22,
   "id": "371a1b9a",
   "metadata": {},
   "outputs": [],
   "source": [
    "p = employee('Sanjay','sam',23)"
   ]
  },
  {
   "cell_type": "code",
   "execution_count": 23,
   "id": "1cea9b7c",
   "metadata": {},
   "outputs": [
    {
     "data": {
      "text/plain": [
       "'Sanjay'"
      ]
     },
     "execution_count": 23,
     "metadata": {},
     "output_type": "execute_result"
    }
   ],
   "source": [
    "p.Name"
   ]
  },
  {
   "cell_type": "code",
   "execution_count": 24,
   "id": "a7e68f6d",
   "metadata": {},
   "outputs": [
    {
     "data": {
      "text/plain": [
       "47"
      ]
     },
     "execution_count": 24,
     "metadata": {},
     "output_type": "execute_result"
    }
   ],
   "source": [
    "p.test(12,12)"
   ]
  },
  {
   "cell_type": "code",
   "execution_count": 25,
   "id": "65e13169",
   "metadata": {},
   "outputs": [
    {
     "name": "stdout",
     "output_type": "stream",
     "text": [
      "Sanjay is a Name and its Surname is sam and date of birth is 23\n"
     ]
    }
   ],
   "source": [
    "print(p)"
   ]
  },
  {
   "cell_type": "markdown",
   "id": "ebd9a42f",
   "metadata": {},
   "source": [
    "#### Example 2:"
   ]
  },
  {
   "cell_type": "code",
   "execution_count": 26,
   "id": "de8aa9ed",
   "metadata": {},
   "outputs": [],
   "source": [
    "class employee():\n",
    "    def __init__(self, Name, Place, YOJ):\n",
    "        self.Name = Name\n",
    "        self.Place = Place\n",
    "        self.YOJ = YOJ\n",
    "        \n",
    "    def test(self,n):\n",
    "        return n+self.YOJ\n",
    "    def __str__(self):\n",
    "        return \"The employee name is %s,employee is from %s and Joined on the Year %d \"%(self.Name, self.Place, self.YOJ)"
   ]
  },
  {
   "cell_type": "code",
   "execution_count": 27,
   "id": "25d71c53",
   "metadata": {},
   "outputs": [],
   "source": [
    "e = employee(\"M Sam\",\"Sec\", 2023)"
   ]
  },
  {
   "cell_type": "code",
   "execution_count": 28,
   "id": "3540f38b",
   "metadata": {},
   "outputs": [
    {
     "data": {
      "text/plain": [
       "<__main__.employee at 0x1d22e232dd0>"
      ]
     },
     "execution_count": 28,
     "metadata": {},
     "output_type": "execute_result"
    }
   ],
   "source": [
    "e"
   ]
  },
  {
   "cell_type": "code",
   "execution_count": 29,
   "id": "ff7d9199",
   "metadata": {},
   "outputs": [
    {
     "name": "stdout",
     "output_type": "stream",
     "text": [
      "<class '__main__.employee'>\n"
     ]
    }
   ],
   "source": [
    "print(employee)"
   ]
  },
  {
   "cell_type": "code",
   "execution_count": 30,
   "id": "af7284d0",
   "metadata": {},
   "outputs": [
    {
     "data": {
      "text/plain": [
       "2035"
      ]
     },
     "execution_count": 30,
     "metadata": {},
     "output_type": "execute_result"
    }
   ],
   "source": [
    "e.test(12)"
   ]
  },
  {
   "cell_type": "code",
   "execution_count": 31,
   "id": "4cd8f7ef",
   "metadata": {},
   "outputs": [
    {
     "name": "stdout",
     "output_type": "stream",
     "text": [
      "The employee name is M Sam,employee is from Sec and Joined on the Year 2023 \n"
     ]
    }
   ],
   "source": [
    "print(e)"
   ]
  },
  {
   "cell_type": "markdown",
   "id": "6c5dbd95",
   "metadata": {},
   "source": [
    "### Method 3:"
   ]
  },
  {
   "cell_type": "code",
   "execution_count": 32,
   "id": "29ed5bdc",
   "metadata": {},
   "outputs": [],
   "source": [
    "class employee:\n",
    "    def pass_name(self, name):\n",
    "        self.name = name\n",
    "    def pass_place(self, place):\n",
    "        self.place = place\n",
    "    def pass_yoj(self, yoj):\n",
    "        self.yoj = yoj"
   ]
  },
  {
   "cell_type": "code",
   "execution_count": 33,
   "id": "18535025",
   "metadata": {},
   "outputs": [],
   "source": [
    "p= employee()\n",
    "q= employee()"
   ]
  },
  {
   "cell_type": "code",
   "execution_count": 34,
   "id": "a282da39",
   "metadata": {},
   "outputs": [],
   "source": [
    "p.pass_name('Dharma')"
   ]
  },
  {
   "cell_type": "code",
   "execution_count": 35,
   "id": "f73001ed",
   "metadata": {},
   "outputs": [
    {
     "data": {
      "text/plain": [
       "'Dharma'"
      ]
     },
     "execution_count": 35,
     "metadata": {},
     "output_type": "execute_result"
    }
   ],
   "source": [
    "p.name"
   ]
  },
  {
   "cell_type": "code",
   "execution_count": 36,
   "id": "d3efc613",
   "metadata": {},
   "outputs": [],
   "source": [
    "p.pass_place('Hyderabad')"
   ]
  },
  {
   "cell_type": "code",
   "execution_count": 37,
   "id": "715889ca",
   "metadata": {},
   "outputs": [
    {
     "data": {
      "text/plain": [
       "'Hyderabad'"
      ]
     },
     "execution_count": 37,
     "metadata": {},
     "output_type": "execute_result"
    }
   ],
   "source": [
    "p.place"
   ]
  },
  {
   "cell_type": "code",
   "execution_count": 38,
   "id": "0ebae867",
   "metadata": {},
   "outputs": [],
   "source": [
    "p.pass_yoj(2021)"
   ]
  },
  {
   "cell_type": "code",
   "execution_count": 39,
   "id": "10d0d9b5",
   "metadata": {},
   "outputs": [
    {
     "data": {
      "text/plain": [
       "2021"
      ]
     },
     "execution_count": 39,
     "metadata": {},
     "output_type": "execute_result"
    }
   ],
   "source": [
    "p.yoj"
   ]
  },
  {
   "cell_type": "code",
   "execution_count": 40,
   "id": "66ef96b3",
   "metadata": {},
   "outputs": [],
   "source": [
    "q.pass_name('Sanjay')"
   ]
  },
  {
   "cell_type": "code",
   "execution_count": 41,
   "id": "ec8a5e2d",
   "metadata": {},
   "outputs": [
    {
     "data": {
      "text/plain": [
       "'Sanjay'"
      ]
     },
     "execution_count": 41,
     "metadata": {},
     "output_type": "execute_result"
    }
   ],
   "source": [
    "q.name"
   ]
  },
  {
   "cell_type": "code",
   "execution_count": 42,
   "id": "95d64bfa",
   "metadata": {},
   "outputs": [],
   "source": [
    "q.pass_yoj(2021)"
   ]
  },
  {
   "cell_type": "code",
   "execution_count": 43,
   "id": "7852d084",
   "metadata": {},
   "outputs": [
    {
     "data": {
      "text/plain": [
       "2021"
      ]
     },
     "execution_count": 43,
     "metadata": {},
     "output_type": "execute_result"
    }
   ],
   "source": [
    "q.yoj"
   ]
  },
  {
   "cell_type": "code",
   "execution_count": null,
   "id": "a4457170",
   "metadata": {},
   "outputs": [],
   "source": []
  }
 ],
 "metadata": {
  "kernelspec": {
   "display_name": "Python 3 (ipykernel)",
   "language": "python",
   "name": "python3"
  },
  "language_info": {
   "codemirror_mode": {
    "name": "ipython",
    "version": 3
   },
   "file_extension": ".py",
   "mimetype": "text/x-python",
   "name": "python",
   "nbconvert_exporter": "python",
   "pygments_lexer": "ipython3",
   "version": "3.10.9"
  }
 },
 "nbformat": 4,
 "nbformat_minor": 5
}
