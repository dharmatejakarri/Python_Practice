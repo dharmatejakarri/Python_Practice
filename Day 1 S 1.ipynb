{
 "cells": [
  {
   "cell_type": "markdown",
   "id": "13063850",
   "metadata": {},
   "source": [
    "# Welcome to Practical Session of Python\n",
    "\n",
    "### Python is an scripting, Functional and Object oriented programming Language\n",
    "\n",
    "#### General Data Types given below"
   ]
  },
  {
   "cell_type": "code",
   "execution_count": 52,
   "id": "02adb0ba",
   "metadata": {},
   "outputs": [
    {
     "data": {
      "text/plain": [
       "11"
      ]
     },
     "execution_count": 52,
     "metadata": {},
     "output_type": "execute_result"
    }
   ],
   "source": [
    "a = 11\n",
    "a"
   ]
  },
  {
   "cell_type": "code",
   "execution_count": 2,
   "id": "f43b6fcc",
   "metadata": {},
   "outputs": [
    {
     "data": {
      "text/plain": [
       "'hey dear'"
      ]
     },
     "execution_count": 2,
     "metadata": {},
     "output_type": "execute_result"
    }
   ],
   "source": [
    "dha = 'hey dear'\n",
    "dha"
   ]
  },
  {
   "cell_type": "code",
   "execution_count": 3,
   "id": "41fe8ca7",
   "metadata": {},
   "outputs": [
    {
     "data": {
      "text/plain": [
       "str"
      ]
     },
     "execution_count": 3,
     "metadata": {},
     "output_type": "execute_result"
    }
   ],
   "source": [
    "type(dha)"
   ]
  },
  {
   "cell_type": "code",
   "execution_count": 4,
   "id": "cd19f0b1",
   "metadata": {},
   "outputs": [
    {
     "data": {
      "text/plain": [
       "(3000+4000j)"
      ]
     },
     "execution_count": 4,
     "metadata": {},
     "output_type": "execute_result"
    }
   ],
   "source": [
    "imge = 3000+ 4000j\n",
    "imge"
   ]
  },
  {
   "cell_type": "code",
   "execution_count": 5,
   "id": "25bab201",
   "metadata": {},
   "outputs": [
    {
     "data": {
      "text/plain": [
       "complex"
      ]
     },
     "execution_count": 5,
     "metadata": {},
     "output_type": "execute_result"
    }
   ],
   "source": [
    "type(imge)"
   ]
  },
  {
   "cell_type": "code",
   "execution_count": 6,
   "id": "e0c0d1e8",
   "metadata": {},
   "outputs": [
    {
     "data": {
      "text/plain": [
       "4000.0"
      ]
     },
     "execution_count": 6,
     "metadata": {},
     "output_type": "execute_result"
    }
   ],
   "source": [
    "imge.imag"
   ]
  },
  {
   "cell_type": "code",
   "execution_count": 7,
   "id": "4f9ee45b",
   "metadata": {},
   "outputs": [
    {
     "data": {
      "text/plain": [
       "3000.0"
      ]
     },
     "execution_count": 7,
     "metadata": {},
     "output_type": "execute_result"
    }
   ],
   "source": [
    "imge.real"
   ]
  },
  {
   "cell_type": "code",
   "execution_count": 8,
   "id": "90e6cf67",
   "metadata": {},
   "outputs": [
    {
     "data": {
      "text/plain": [
       "32"
      ]
     },
     "execution_count": 8,
     "metadata": {},
     "output_type": "execute_result"
    }
   ],
   "source": [
    "a = 32\n",
    "a"
   ]
  },
  {
   "cell_type": "code",
   "execution_count": 9,
   "id": "09b559a8",
   "metadata": {},
   "outputs": [
    {
     "data": {
      "text/plain": [
       "32.8"
      ]
     },
     "execution_count": 9,
     "metadata": {},
     "output_type": "execute_result"
    }
   ],
   "source": [
    "b = 32.8\n",
    "b"
   ]
  },
  {
   "cell_type": "code",
   "execution_count": 10,
   "id": "a9305bc9",
   "metadata": {},
   "outputs": [
    {
     "data": {
      "text/plain": [
       "True"
      ]
     },
     "execution_count": 10,
     "metadata": {},
     "output_type": "execute_result"
    }
   ],
   "source": [
    "c = True\n",
    "c"
   ]
  },
  {
   "cell_type": "code",
   "execution_count": 11,
   "id": "964ac915",
   "metadata": {},
   "outputs": [
    {
     "data": {
      "text/plain": [
       "2"
      ]
     },
     "execution_count": 11,
     "metadata": {},
     "output_type": "execute_result"
    }
   ],
   "source": [
    "True + True"
   ]
  },
  {
   "cell_type": "code",
   "execution_count": 12,
   "id": "cd1d5ef9",
   "metadata": {},
   "outputs": [
    {
     "data": {
      "text/plain": [
       "1"
      ]
     },
     "execution_count": 12,
     "metadata": {},
     "output_type": "execute_result"
    }
   ],
   "source": [
    "True + False"
   ]
  },
  {
   "cell_type": "code",
   "execution_count": 13,
   "id": "3e0f3f37",
   "metadata": {},
   "outputs": [],
   "source": [
    "# is used for sigle lined comment"
   ]
  },
  {
   "cell_type": "code",
   "execution_count": 14,
   "id": "1e3eec03",
   "metadata": {},
   "outputs": [
    {
     "data": {
      "text/plain": [
       "'fhfsk\\nfdskahfk\\ndfkjss\\nfshjsa\\nfsjkfa'"
      ]
     },
     "execution_count": 14,
     "metadata": {},
     "output_type": "execute_result"
    }
   ],
   "source": [
    "# is used for multiple lined comment\n",
    "\"\"\"fhfsk\n",
    "fdskahfk\n",
    "dfkjss\n",
    "fshjsa\n",
    "fsjkfa\"\"\"\n"
   ]
  },
  {
   "cell_type": "markdown",
   "id": "0cdc9134",
   "metadata": {},
   "source": [
    "# Strings"
   ]
  },
  {
   "cell_type": "code",
   "execution_count": 15,
   "id": "9e38976b",
   "metadata": {},
   "outputs": [],
   "source": [
    "s = \"Awesome\""
   ]
  },
  {
   "cell_type": "code",
   "execution_count": 16,
   "id": "bca82c80",
   "metadata": {},
   "outputs": [
    {
     "data": {
      "text/plain": [
       "str"
      ]
     },
     "execution_count": 16,
     "metadata": {},
     "output_type": "execute_result"
    }
   ],
   "source": [
    "type(s)\n"
   ]
  },
  {
   "cell_type": "code",
   "execution_count": 17,
   "id": "27252262",
   "metadata": {},
   "outputs": [
    {
     "name": "stdout",
     "output_type": "stream",
     "text": [
      "Awesome\n"
     ]
    }
   ],
   "source": [
    "print(s)"
   ]
  },
  {
   "cell_type": "code",
   "execution_count": 18,
   "id": "9b737d9d",
   "metadata": {},
   "outputs": [],
   "source": [
    "d = \"dharma's job is confirmed\""
   ]
  },
  {
   "cell_type": "code",
   "execution_count": 19,
   "id": "6b7cac4d",
   "metadata": {},
   "outputs": [
    {
     "data": {
      "text/plain": [
       "\"dharma's job is confirmed\""
      ]
     },
     "execution_count": 19,
     "metadata": {},
     "output_type": "execute_result"
    }
   ],
   "source": [
    "d"
   ]
  },
  {
   "cell_type": "code",
   "execution_count": 20,
   "id": "c49a78dc",
   "metadata": {},
   "outputs": [],
   "source": [
    "s = 'Yes His offer letter also came'"
   ]
  },
  {
   "cell_type": "code",
   "execution_count": 21,
   "id": "248b9c55",
   "metadata": {},
   "outputs": [
    {
     "data": {
      "text/plain": [
       "'Yes His offer letter also came'"
      ]
     },
     "execution_count": 21,
     "metadata": {},
     "output_type": "execute_result"
    }
   ],
   "source": [
    "s"
   ]
  },
  {
   "cell_type": "code",
   "execution_count": 22,
   "id": "a3fb36ed",
   "metadata": {},
   "outputs": [
    {
     "data": {
      "text/plain": [
       "str"
      ]
     },
     "execution_count": 22,
     "metadata": {},
     "output_type": "execute_result"
    }
   ],
   "source": [
    "type(s)"
   ]
  },
  {
   "cell_type": "code",
   "execution_count": 23,
   "id": "7f468bfe",
   "metadata": {},
   "outputs": [
    {
     "data": {
      "text/plain": [
       "2483443709904"
      ]
     },
     "execution_count": 23,
     "metadata": {},
     "output_type": "execute_result"
    }
   ],
   "source": [
    "id(s)"
   ]
  },
  {
   "cell_type": "markdown",
   "id": "0a911670",
   "metadata": {},
   "source": [
    "### 1.index"
   ]
  },
  {
   "cell_type": "code",
   "execution_count": 24,
   "id": "9783ce99",
   "metadata": {},
   "outputs": [
    {
     "data": {
      "text/plain": [
       "'e'"
      ]
     },
     "execution_count": 24,
     "metadata": {},
     "output_type": "execute_result"
    }
   ],
   "source": [
    "s[1]"
   ]
  },
  {
   "cell_type": "code",
   "execution_count": 25,
   "id": "c4b46b1f",
   "metadata": {},
   "outputs": [
    {
     "data": {
      "text/plain": [
       "'Y'"
      ]
     },
     "execution_count": 25,
     "metadata": {},
     "output_type": "execute_result"
    }
   ],
   "source": [
    "s[0]"
   ]
  },
  {
   "cell_type": "code",
   "execution_count": 26,
   "id": "11fe2d0e",
   "metadata": {},
   "outputs": [
    {
     "data": {
      "text/plain": [
       "'a'"
      ]
     },
     "execution_count": 26,
     "metadata": {},
     "output_type": "execute_result"
    }
   ],
   "source": [
    "s[-3]"
   ]
  },
  {
   "cell_type": "code",
   "execution_count": 27,
   "id": "456075a0",
   "metadata": {},
   "outputs": [
    {
     "data": {
      "text/plain": [
       "'e'"
      ]
     },
     "execution_count": 27,
     "metadata": {},
     "output_type": "execute_result"
    }
   ],
   "source": [
    "s[15]"
   ]
  },
  {
   "cell_type": "markdown",
   "id": "accb3be7",
   "metadata": {},
   "source": [
    "### 2.Slicing "
   ]
  },
  {
   "cell_type": "code",
   "execution_count": 28,
   "id": "afce5eba",
   "metadata": {},
   "outputs": [
    {
     "data": {
      "text/plain": [
       "'Yes His of'"
      ]
     },
     "execution_count": 28,
     "metadata": {},
     "output_type": "execute_result"
    }
   ],
   "source": [
    "s[0:10]"
   ]
  },
  {
   "cell_type": "markdown",
   "id": "7f65a47f",
   "metadata": {},
   "source": [
    "##### 2.1 Stepsize (Jump)"
   ]
  },
  {
   "cell_type": "code",
   "execution_count": 29,
   "id": "36660903",
   "metadata": {},
   "outputs": [
    {
     "data": {
      "text/plain": [
       "'Yes His offer letter also came'"
      ]
     },
     "execution_count": 29,
     "metadata": {},
     "output_type": "execute_result"
    }
   ],
   "source": [
    "s"
   ]
  },
  {
   "cell_type": "code",
   "execution_count": 30,
   "id": "24ad0ccc",
   "metadata": {},
   "outputs": [
    {
     "data": {
      "text/plain": [
       "'YsHs'"
      ]
     },
     "execution_count": 30,
     "metadata": {},
     "output_type": "execute_result"
    }
   ],
   "source": [
    "s[0:8:2]"
   ]
  },
  {
   "cell_type": "code",
   "execution_count": 31,
   "id": "77347867",
   "metadata": {},
   "outputs": [
    {
     "data": {
      "text/plain": [
       "'ecs t'"
      ]
     },
     "execution_count": 31,
     "metadata": {},
     "output_type": "execute_result"
    }
   ],
   "source": [
    "s[-1:-14:-3]"
   ]
  },
  {
   "cell_type": "code",
   "execution_count": 32,
   "id": "cb94f93b",
   "metadata": {},
   "outputs": [
    {
     "data": {
      "text/plain": [
       "'i e'"
      ]
     },
     "execution_count": 32,
     "metadata": {},
     "output_type": "execute_result"
    }
   ],
   "source": [
    "s[5:0:-2]"
   ]
  },
  {
   "cell_type": "markdown",
   "id": "312d08cb",
   "metadata": {},
   "source": [
    "##### 2.2 Reverse "
   ]
  },
  {
   "cell_type": "code",
   "execution_count": 33,
   "id": "9c2bbd16",
   "metadata": {},
   "outputs": [
    {
     "data": {
      "text/plain": [
       "'emac osla rettel reffo siH seY'"
      ]
     },
     "execution_count": 33,
     "metadata": {},
     "output_type": "execute_result"
    }
   ],
   "source": [
    "s[::-1]"
   ]
  },
  {
   "cell_type": "markdown",
   "id": "a7f172c1",
   "metadata": {},
   "source": [
    "# List "
   ]
  },
  {
   "cell_type": "markdown",
   "id": "91545f32",
   "metadata": {},
   "source": [
    "No array concept which exicts inside python Code, here it comes list\n",
    "We can find array in Numpy and ndarray"
   ]
  },
  {
   "cell_type": "code",
   "execution_count": 34,
   "id": "14858006",
   "metadata": {},
   "outputs": [
    {
     "data": {
      "text/plain": [
       "[]"
      ]
     },
     "execution_count": 34,
     "metadata": {},
     "output_type": "execute_result"
    }
   ],
   "source": [
    "c = []\n",
    "c"
   ]
  },
  {
   "cell_type": "code",
   "execution_count": 35,
   "id": "3769375b",
   "metadata": {},
   "outputs": [
    {
     "data": {
      "text/plain": [
       "list"
      ]
     },
     "execution_count": 35,
     "metadata": {},
     "output_type": "execute_result"
    }
   ],
   "source": [
    "type(c)"
   ]
  },
  {
   "cell_type": "code",
   "execution_count": 36,
   "id": "2957e141",
   "metadata": {},
   "outputs": [],
   "source": [
    "l = list()"
   ]
  },
  {
   "cell_type": "code",
   "execution_count": 37,
   "id": "d2ee2ca3",
   "metadata": {},
   "outputs": [
    {
     "data": {
      "text/plain": [
       "[]"
      ]
     },
     "execution_count": 37,
     "metadata": {},
     "output_type": "execute_result"
    }
   ],
   "source": [
    "l"
   ]
  },
  {
   "cell_type": "code",
   "execution_count": 38,
   "id": "2979ce6b",
   "metadata": {},
   "outputs": [
    {
     "data": {
      "text/plain": [
       "list"
      ]
     },
     "execution_count": 38,
     "metadata": {},
     "output_type": "execute_result"
    }
   ],
   "source": [
    "type(l)"
   ]
  },
  {
   "cell_type": "code",
   "execution_count": 39,
   "id": "496ec4f3",
   "metadata": {},
   "outputs": [],
   "source": [
    " c = [23, \"Karri\",\"Dharma Teja\", '14/06/2001', 'He is perfect match for this role', [1,2,3,4,5,5,6,67,7,77,8,8,8,8]]"
   ]
  },
  {
   "cell_type": "code",
   "execution_count": 40,
   "id": "f7610790",
   "metadata": {},
   "outputs": [
    {
     "data": {
      "text/plain": [
       "[23,\n",
       " 'Karri',\n",
       " 'Dharma Teja',\n",
       " '14/06/2001',\n",
       " 'He is perfect match for this role',\n",
       " [1, 2, 3, 4, 5, 5, 6, 67, 7, 77, 8, 8, 8, 8]]"
      ]
     },
     "execution_count": 40,
     "metadata": {},
     "output_type": "execute_result"
    }
   ],
   "source": [
    "c"
   ]
  },
  {
   "cell_type": "code",
   "execution_count": 41,
   "id": "b38924af",
   "metadata": {},
   "outputs": [
    {
     "data": {
      "text/plain": [
       "'Dharma Teja'"
      ]
     },
     "execution_count": 41,
     "metadata": {},
     "output_type": "execute_result"
    }
   ],
   "source": [
    "c[2]"
   ]
  },
  {
   "cell_type": "code",
   "execution_count": 42,
   "id": "26270965",
   "metadata": {},
   "outputs": [
    {
     "data": {
      "text/plain": [
       "23"
      ]
     },
     "execution_count": 42,
     "metadata": {},
     "output_type": "execute_result"
    }
   ],
   "source": [
    "c[0]"
   ]
  },
  {
   "cell_type": "code",
   "execution_count": 43,
   "id": "28130257",
   "metadata": {},
   "outputs": [
    {
     "data": {
      "text/plain": [
       "'Dharma Teja'"
      ]
     },
     "execution_count": 43,
     "metadata": {},
     "output_type": "execute_result"
    }
   ],
   "source": [
    "c[-4]"
   ]
  },
  {
   "cell_type": "code",
   "execution_count": 44,
   "id": "a0f92c36",
   "metadata": {},
   "outputs": [
    {
     "data": {
      "text/plain": [
       "list"
      ]
     },
     "execution_count": 44,
     "metadata": {},
     "output_type": "execute_result"
    }
   ],
   "source": [
    "type(c)"
   ]
  },
  {
   "cell_type": "code",
   "execution_count": 45,
   "id": "9e2e4a24",
   "metadata": {},
   "outputs": [
    {
     "data": {
      "text/plain": [
       "str"
      ]
     },
     "execution_count": 45,
     "metadata": {},
     "output_type": "execute_result"
    }
   ],
   "source": [
    "type(c[3])"
   ]
  },
  {
   "cell_type": "code",
   "execution_count": 46,
   "id": "55f6a78d",
   "metadata": {},
   "outputs": [
    {
     "data": {
      "text/plain": [
       "[1, 2, 3, 4, 5, 5, 6, 67, 7, 77, 8, 8, 8, 8]"
      ]
     },
     "execution_count": 46,
     "metadata": {},
     "output_type": "execute_result"
    }
   ],
   "source": [
    "c[-1]"
   ]
  },
  {
   "cell_type": "code",
   "execution_count": 47,
   "id": "3def0d68",
   "metadata": {},
   "outputs": [
    {
     "data": {
      "text/plain": [
       "77"
      ]
     },
     "execution_count": 47,
     "metadata": {},
     "output_type": "execute_result"
    }
   ],
   "source": [
    "c[-1][-5]"
   ]
  },
  {
   "cell_type": "code",
   "execution_count": 48,
   "id": "4f0d7be9",
   "metadata": {},
   "outputs": [
    {
     "data": {
      "text/plain": [
       "[23,\n",
       " 'Karri',\n",
       " 'Dharma Teja',\n",
       " '14/06/2001',\n",
       " 'He is perfect match for this role',\n",
       " [1, 2, 3, 4, 5, 5, 6, 67, 7, 77, 8, 8, 8, 8]]"
      ]
     },
     "execution_count": 48,
     "metadata": {},
     "output_type": "execute_result"
    }
   ],
   "source": [
    "c[0:19]"
   ]
  },
  {
   "cell_type": "code",
   "execution_count": 49,
   "id": "62217cad",
   "metadata": {},
   "outputs": [
    {
     "data": {
      "text/plain": [
       "[23,\n",
       " 'Karri',\n",
       " 'Dharma Teja',\n",
       " '14/06/2001',\n",
       " 'He is perfect match for this role',\n",
       " [1, 2, 3, 4, 5, 5, 6, 67, 7, 77, 8, 8, 8, 8]]"
      ]
     },
     "execution_count": 49,
     "metadata": {},
     "output_type": "execute_result"
    }
   ],
   "source": [
    "c[0:100]"
   ]
  },
  {
   "cell_type": "code",
   "execution_count": 50,
   "id": "46dc0560",
   "metadata": {},
   "outputs": [
    {
     "data": {
      "text/plain": [
       "[23,\n",
       " 'Karri',\n",
       " 'Dharma Teja',\n",
       " '14/06/2001',\n",
       " 'He is perfect match for this role',\n",
       " [1, 2, 3, 4, 5, 5, 6, 67, 7, 77, 8, 8, 8, 8]]"
      ]
     },
     "execution_count": 50,
     "metadata": {},
     "output_type": "execute_result"
    }
   ],
   "source": [
    "c[0:30:1]"
   ]
  },
  {
   "cell_type": "code",
   "execution_count": 51,
   "id": "b08abf77",
   "metadata": {},
   "outputs": [
    {
     "data": {
      "text/plain": [
       "[[1, 2, 3, 4, 5, 5, 6, 67, 7, 77, 8, 8, 8, 8],\n",
       " 'He is perfect match for this role',\n",
       " '14/06/2001',\n",
       " 'Dharma Teja']"
      ]
     },
     "execution_count": 51,
     "metadata": {},
     "output_type": "execute_result"
    }
   ],
   "source": [
    "c[-1:-5:-1]"
   ]
  },
  {
   "cell_type": "code",
   "execution_count": null,
   "id": "435518b2",
   "metadata": {},
   "outputs": [],
   "source": []
  }
 ],
 "metadata": {
  "kernelspec": {
   "display_name": "Python 3 (ipykernel)",
   "language": "python",
   "name": "python3"
  },
  "language_info": {
   "codemirror_mode": {
    "name": "ipython",
    "version": 3
   },
   "file_extension": ".py",
   "mimetype": "text/x-python",
   "name": "python",
   "nbconvert_exporter": "python",
   "pygments_lexer": "ipython3",
   "version": "3.10.9"
  }
 },
 "nbformat": 4,
 "nbformat_minor": 5
}
