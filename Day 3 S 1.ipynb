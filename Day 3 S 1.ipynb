{
 "cells": [
  {
   "cell_type": "markdown",
   "id": "91fd6e15",
   "metadata": {},
   "source": [
    "# Abstraction"
   ]
  },
  {
   "cell_type": "markdown",
   "id": "8895df07",
   "metadata": {},
   "source": [
    "## Public, Protected, Private"
   ]
  },
  {
   "cell_type": "markdown",
   "id": "97106f38",
   "metadata": {},
   "source": [
    "### In an actual way, abstraction is not exists in the python, but for respecting other programms they invited this, these all done by the notation.\n",
    "##### For Public: No underscore needed\n",
    "##### For Protected : One Underscore, _\n",
    "##### For Private: Double Underscore __"
   ]
  },
  {
   "cell_type": "code",
   "execution_count": 1,
   "id": "b36051b2",
   "metadata": {},
   "outputs": [],
   "source": [
    "class person:\n",
    "    def __init__(self,Name, Place, YOB):\n",
    "        self._Name = Name\n",
    "        self.__Place = Place\n",
    "        self.YOB = YOB\n",
    "    def __str__(self):\n",
    "        return \"Hey this is %s,i am from %s joined on %d\"%(self._Name, self.__Place, self.YOB)"
   ]
  },
  {
   "cell_type": "code",
   "execution_count": 2,
   "id": "4a7228f0",
   "metadata": {},
   "outputs": [],
   "source": [
    "p = person(\"Sanjat\",\"Hyderabad\", 23)"
   ]
  },
  {
   "cell_type": "code",
   "execution_count": 3,
   "id": "b6f538f0",
   "metadata": {},
   "outputs": [
    {
     "data": {
      "text/plain": [
       "'Sanjat'"
      ]
     },
     "execution_count": 3,
     "metadata": {},
     "output_type": "execute_result"
    }
   ],
   "source": [
    "p._Name"
   ]
  },
  {
   "cell_type": "markdown",
   "id": "26f40106",
   "metadata": {},
   "source": [
    "#### Here we got the error because, we mention this as private, so that in private, this will call to the main function, we have to mention the main method to get the data"
   ]
  },
  {
   "cell_type": "code",
   "execution_count": 4,
   "id": "a24b2864",
   "metadata": {},
   "outputs": [
    {
     "ename": "AttributeError",
     "evalue": "'person' object has no attribute '__place'",
     "output_type": "error",
     "traceback": [
      "\u001b[1;31m---------------------------------------------------------------------------\u001b[0m",
      "\u001b[1;31mAttributeError\u001b[0m                            Traceback (most recent call last)",
      "Cell \u001b[1;32mIn[4], line 1\u001b[0m\n\u001b[1;32m----> 1\u001b[0m \u001b[43mp\u001b[49m\u001b[38;5;241;43m.\u001b[39;49m\u001b[43m__place\u001b[49m\n",
      "\u001b[1;31mAttributeError\u001b[0m: 'person' object has no attribute '__place'"
     ]
    }
   ],
   "source": [
    "p.__place"
   ]
  },
  {
   "cell_type": "code",
   "execution_count": 5,
   "id": "5344d313",
   "metadata": {},
   "outputs": [
    {
     "data": {
      "text/plain": [
       "'Hyderabad'"
      ]
     },
     "execution_count": 5,
     "metadata": {},
     "output_type": "execute_result"
    }
   ],
   "source": [
    "p._person__Place"
   ]
  },
  {
   "cell_type": "code",
   "execution_count": 6,
   "id": "7929f790",
   "metadata": {},
   "outputs": [
    {
     "data": {
      "text/plain": [
       "23"
      ]
     },
     "execution_count": 6,
     "metadata": {},
     "output_type": "execute_result"
    }
   ],
   "source": [
    "p.YOB"
   ]
  },
  {
   "cell_type": "code",
   "execution_count": 7,
   "id": "5dcf6251",
   "metadata": {},
   "outputs": [
    {
     "name": "stdout",
     "output_type": "stream",
     "text": [
      "Hey this is Sanjat,i am from Hyderabad joined on 23\n"
     ]
    }
   ],
   "source": [
    "print(p)"
   ]
  },
  {
   "cell_type": "markdown",
   "id": "faa3c406",
   "metadata": {},
   "source": [
    "# Inheritance"
   ]
  },
  {
   "cell_type": "markdown",
   "id": "1d231e7d",
   "metadata": {},
   "source": [
    "## Class1:"
   ]
  },
  {
   "cell_type": "code",
   "execution_count": 8,
   "id": "245168b7",
   "metadata": {},
   "outputs": [],
   "source": [
    "class employee:\n",
    "    def __init__(self,Name,Place,ID):\n",
    "        self.Name = Name\n",
    "        self.Place = Place\n",
    "        self.ID = ID\n",
    "    def __str__(self):\n",
    "        return \"Hey this is %s, i am from %s and my ID is %d\"%(self.Name,self.Place,self.ID)"
   ]
  },
  {
   "cell_type": "code",
   "execution_count": 9,
   "id": "88208905",
   "metadata": {},
   "outputs": [],
   "source": [
    "e = employee('Dharma Teja','Hyderabad',13)"
   ]
  },
  {
   "cell_type": "code",
   "execution_count": 10,
   "id": "69358ac4",
   "metadata": {},
   "outputs": [
    {
     "data": {
      "text/plain": [
       "<__main__.employee at 0x29fccc5a6b0>"
      ]
     },
     "execution_count": 10,
     "metadata": {},
     "output_type": "execute_result"
    }
   ],
   "source": [
    "e"
   ]
  },
  {
   "cell_type": "code",
   "execution_count": 11,
   "id": "ce163234",
   "metadata": {},
   "outputs": [
    {
     "name": "stdout",
     "output_type": "stream",
     "text": [
      "Hey this is Dharma Teja, i am from Hyderabad and my ID is 13\n"
     ]
    }
   ],
   "source": [
    "print(e)"
   ]
  },
  {
   "cell_type": "markdown",
   "id": "3d6b828e",
   "metadata": {},
   "source": [
    "#### we got the error, because we didnot mention the arguments in the parent class called Employee"
   ]
  },
  {
   "cell_type": "code",
   "execution_count": 12,
   "id": "9f51929d",
   "metadata": {},
   "outputs": [
    {
     "ename": "TypeError",
     "evalue": "employee.__init__() missing 3 required positional arguments: 'Name', 'Place', and 'ID'",
     "output_type": "error",
     "traceback": [
      "\u001b[1;31m---------------------------------------------------------------------------\u001b[0m",
      "\u001b[1;31mTypeError\u001b[0m                                 Traceback (most recent call last)",
      "Cell \u001b[1;32mIn[12], line 10\u001b[0m\n\u001b[0;32m      7\u001b[0m     \u001b[38;5;28;01mdef\u001b[39;00m \u001b[38;5;21mtest\u001b[39m(\u001b[38;5;28mself\u001b[39m,n,m):\n\u001b[0;32m      8\u001b[0m         \u001b[38;5;28;01mreturn\u001b[39;00m n\u001b[38;5;241m+\u001b[39mm\u001b[38;5;241m+\u001b[39m\u001b[38;5;28mself\u001b[39m\u001b[38;5;241m.\u001b[39mYear\n\u001b[1;32m---> 10\u001b[0m stud \u001b[38;5;241m=\u001b[39m \u001b[43mstudent\u001b[49m\u001b[43m(\u001b[49m\u001b[38;5;124;43m\"\u001b[39;49m\u001b[38;5;124;43mCSE\u001b[39;49m\u001b[38;5;124;43m\"\u001b[39;49m\u001b[43m,\u001b[49m\u001b[38;5;241;43m3\u001b[39;49m\u001b[43m)\u001b[49m\n",
      "Cell \u001b[1;32mIn[12], line 3\u001b[0m, in \u001b[0;36mstudent.__init__\u001b[1;34m(self, Branch, Year, *args)\u001b[0m\n\u001b[0;32m      2\u001b[0m \u001b[38;5;28;01mdef\u001b[39;00m \u001b[38;5;21m__init__\u001b[39m(\u001b[38;5;28mself\u001b[39m,Branch,Year, \u001b[38;5;241m*\u001b[39margs):\n\u001b[1;32m----> 3\u001b[0m     \u001b[38;5;28;43msuper\u001b[39;49m\u001b[43m(\u001b[49m\u001b[43mstudent\u001b[49m\u001b[43m,\u001b[49m\u001b[38;5;28;43mself\u001b[39;49m\u001b[43m)\u001b[49m\u001b[38;5;241;43m.\u001b[39;49m\u001b[38;5;21;43m__init__\u001b[39;49m\u001b[43m(\u001b[49m\u001b[38;5;241;43m*\u001b[39;49m\u001b[43margs\u001b[49m\u001b[43m)\u001b[49m\n\u001b[0;32m      4\u001b[0m     \u001b[38;5;28mself\u001b[39m\u001b[38;5;241m.\u001b[39mBranch \u001b[38;5;241m=\u001b[39m Branch\n\u001b[0;32m      5\u001b[0m     \u001b[38;5;28mself\u001b[39m\u001b[38;5;241m.\u001b[39mYear \u001b[38;5;241m=\u001b[39m Year\n",
      "\u001b[1;31mTypeError\u001b[0m: employee.__init__() missing 3 required positional arguments: 'Name', 'Place', and 'ID'"
     ]
    }
   ],
   "source": [
    "class student(employee):\n",
    "    def __init__(self,Branch,Year, *args):\n",
    "        super(student,self).__init__(*args)\n",
    "        self.Branch = Branch\n",
    "        self.Year = Year\n",
    "        \n",
    "    def test(self,n,m):\n",
    "        return n+m+self.Year\n",
    "        \n",
    "stud = student(\"CSE\",3)    "
   ]
  },
  {
   "cell_type": "code",
   "execution_count": 13,
   "id": "4bcfee6f",
   "metadata": {},
   "outputs": [],
   "source": [
    "stud = student(\"CSE\",3,\"Sanjay\",\"Hyderabad\",2023) "
   ]
  },
  {
   "cell_type": "code",
   "execution_count": 14,
   "id": "9b69feb4",
   "metadata": {},
   "outputs": [
    {
     "data": {
      "text/plain": [
       "<__main__.student at 0x29fcccc0af0>"
      ]
     },
     "execution_count": 14,
     "metadata": {},
     "output_type": "execute_result"
    }
   ],
   "source": [
    "stud"
   ]
  },
  {
   "cell_type": "code",
   "execution_count": 15,
   "id": "f84612cc",
   "metadata": {},
   "outputs": [
    {
     "name": "stdout",
     "output_type": "stream",
     "text": [
      "Hey this is Sanjay, i am from Hyderabad and my ID is 2023\n"
     ]
    }
   ],
   "source": [
    "print(stud)"
   ]
  },
  {
   "cell_type": "code",
   "execution_count": 16,
   "id": "a560230a",
   "metadata": {},
   "outputs": [
    {
     "data": {
      "text/plain": [
       "'Sanjay'"
      ]
     },
     "execution_count": 16,
     "metadata": {},
     "output_type": "execute_result"
    }
   ],
   "source": [
    "stud.Name"
   ]
  },
  {
   "cell_type": "code",
   "execution_count": 17,
   "id": "272b663a",
   "metadata": {},
   "outputs": [
    {
     "data": {
      "text/plain": [
       "'CSE'"
      ]
     },
     "execution_count": 17,
     "metadata": {},
     "output_type": "execute_result"
    }
   ],
   "source": [
    "stud.Branch"
   ]
  },
  {
   "cell_type": "code",
   "execution_count": 18,
   "id": "b3d11b66",
   "metadata": {},
   "outputs": [
    {
     "data": {
      "text/plain": [
       "2023"
      ]
     },
     "execution_count": 18,
     "metadata": {},
     "output_type": "execute_result"
    }
   ],
   "source": [
    "stud.ID"
   ]
  },
  {
   "cell_type": "markdown",
   "id": "06b43552",
   "metadata": {},
   "source": [
    "### Example 2: \n",
    "#### Wih the multiple interhetance, and this is about three clases, (a, b) are Parent classes and 'c' is the Child class"
   ]
  },
  {
   "cell_type": "code",
   "execution_count": 19,
   "id": "8d9c7cde",
   "metadata": {},
   "outputs": [
    {
     "data": {
      "text/plain": [
       "8"
      ]
     },
     "execution_count": 19,
     "metadata": {},
     "output_type": "execute_result"
    }
   ],
   "source": [
    "stud.test(2,3)"
   ]
  },
  {
   "cell_type": "code",
   "execution_count": 20,
   "id": "2c13b584",
   "metadata": {},
   "outputs": [
    {
     "name": "stdout",
     "output_type": "stream",
     "text": [
      "This is me\n",
      "Yo again its me\n",
      "This is me\n"
     ]
    }
   ],
   "source": [
    "class a:\n",
    "    def test(self):\n",
    "        print(\"This is me\")\n",
    "\n",
    "class b:\n",
    "    def test(self):\n",
    "        print(\"Yo again its me\")\n",
    "        \n",
    "class c(a,b):\n",
    "    obja = a()\n",
    "    objb = b()\n",
    "    obja.test()\n",
    "    objb.test()\n",
    "    \n",
    "objc = c()\n",
    "objc.test()"
   ]
  },
  {
   "cell_type": "code",
   "execution_count": 21,
   "id": "1700db5f",
   "metadata": {},
   "outputs": [
    {
     "name": "stdout",
     "output_type": "stream",
     "text": [
      "Yes, i am here\n",
      "No, I am out of here\n",
      "No, I am out of here\n"
     ]
    }
   ],
   "source": [
    "class a:\n",
    "    def test(self):\n",
    "        print(\"Yes, i am here\")\n",
    "class b: \n",
    "    def test(self):\n",
    "        print(\"No, I am out of here\")\n",
    "        \n",
    "class c(b,a):\n",
    "    obja = a()\n",
    "    objb = b()\n",
    "    obja.test()\n",
    "    objb.test()\n",
    "objc = c()\n",
    "objc.test()"
   ]
  },
  {
   "cell_type": "code",
   "execution_count": null,
   "id": "f7b4a179",
   "metadata": {},
   "outputs": [],
   "source": []
  },
  {
   "cell_type": "code",
   "execution_count": null,
   "id": "6d32bb70",
   "metadata": {},
   "outputs": [],
   "source": []
  }
 ],
 "metadata": {
  "kernelspec": {
   "display_name": "Python 3 (ipykernel)",
   "language": "python",
   "name": "python3"
  },
  "language_info": {
   "codemirror_mode": {
    "name": "ipython",
    "version": 3
   },
   "file_extension": ".py",
   "mimetype": "text/x-python",
   "name": "python",
   "nbconvert_exporter": "python",
   "pygments_lexer": "ipython3",
   "version": "3.10.9"
  }
 },
 "nbformat": 4,
 "nbformat_minor": 5
}
