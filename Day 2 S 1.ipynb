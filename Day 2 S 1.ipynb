{
 "cells": [
  {
   "cell_type": "markdown",
   "id": "2b60d2dd",
   "metadata": {},
   "source": [
    "# Connections"
   ]
  },
  {
   "cell_type": "markdown",
   "id": "bb15678e",
   "metadata": {},
   "source": [
    "### DS, Tuple"
   ]
  },
  {
   "cell_type": "code",
   "execution_count": 1,
   "id": "5430ef68",
   "metadata": {},
   "outputs": [],
   "source": [
    " l = [1,2,3,4,4,53,'hey this is list']"
   ]
  },
  {
   "cell_type": "code",
   "execution_count": 2,
   "id": "23d43547",
   "metadata": {},
   "outputs": [
    {
     "data": {
      "text/plain": [
       "[1, 2, 3, 4, 4, 53, 'hey this is list']"
      ]
     },
     "execution_count": 2,
     "metadata": {},
     "output_type": "execute_result"
    }
   ],
   "source": [
    "l"
   ]
  },
  {
   "cell_type": "code",
   "execution_count": 3,
   "id": "218f18e1",
   "metadata": {},
   "outputs": [],
   "source": [
    "t = (1,2,3,4,5,343,'Hey this is a tuple')"
   ]
  },
  {
   "cell_type": "code",
   "execution_count": 4,
   "id": "f6062143",
   "metadata": {},
   "outputs": [
    {
     "data": {
      "text/plain": [
       "(1, 2, 3, 4, 5, 343, 'Hey this is a tuple')"
      ]
     },
     "execution_count": 4,
     "metadata": {},
     "output_type": "execute_result"
    }
   ],
   "source": [
    "t"
   ]
  },
  {
   "cell_type": "code",
   "execution_count": 5,
   "id": "4f03822c",
   "metadata": {},
   "outputs": [
    {
     "data": {
      "text/plain": [
       "('Hey this is a tuple', 343, 5, 4, 3, 2, 1)"
      ]
     },
     "execution_count": 5,
     "metadata": {},
     "output_type": "execute_result"
    }
   ],
   "source": [
    "t[::-1]"
   ]
  },
  {
   "cell_type": "code",
   "execution_count": 6,
   "id": "e0b4dc16",
   "metadata": {},
   "outputs": [
    {
     "data": {
      "text/plain": [
       "7"
      ]
     },
     "execution_count": 6,
     "metadata": {},
     "output_type": "execute_result"
    }
   ],
   "source": [
    "len(t)"
   ]
  },
  {
   "cell_type": "code",
   "execution_count": 7,
   "id": "e4252cde",
   "metadata": {},
   "outputs": [
    {
     "data": {
      "text/plain": [
       "1"
      ]
     },
     "execution_count": 7,
     "metadata": {},
     "output_type": "execute_result"
    }
   ],
   "source": [
    "t.index(2)"
   ]
  },
  {
   "cell_type": "code",
   "execution_count": 8,
   "id": "156edb4c",
   "metadata": {},
   "outputs": [
    {
     "data": {
      "text/plain": [
       "2"
      ]
     },
     "execution_count": 8,
     "metadata": {},
     "output_type": "execute_result"
    }
   ],
   "source": [
    "t[1]"
   ]
  },
  {
   "cell_type": "code",
   "execution_count": 9,
   "id": "88c77b2a",
   "metadata": {},
   "outputs": [],
   "source": [
    "l[0] = 'Yes'"
   ]
  },
  {
   "cell_type": "code",
   "execution_count": 10,
   "id": "2bd079b5",
   "metadata": {},
   "outputs": [
    {
     "data": {
      "text/plain": [
       "['Yes', 2, 3, 4, 4, 53, 'hey this is list']"
      ]
     },
     "execution_count": 10,
     "metadata": {},
     "output_type": "execute_result"
    }
   ],
   "source": [
    "l"
   ]
  },
  {
   "cell_type": "code",
   "execution_count": 11,
   "id": "3b06b40d",
   "metadata": {},
   "outputs": [
    {
     "ename": "TypeError",
     "evalue": "'tuple' object does not support item assignment",
     "output_type": "error",
     "traceback": [
      "\u001b[1;31m---------------------------------------------------------------------------\u001b[0m",
      "\u001b[1;31mTypeError\u001b[0m                                 Traceback (most recent call last)",
      "Cell \u001b[1;32mIn[11], line 1\u001b[0m\n\u001b[1;32m----> 1\u001b[0m t[\u001b[38;5;241m0\u001b[39m] \u001b[38;5;241m=\u001b[39m \u001b[38;5;124m'\u001b[39m\u001b[38;5;124mno\u001b[39m\u001b[38;5;124m'\u001b[39m\n",
      "\u001b[1;31mTypeError\u001b[0m: 'tuple' object does not support item assignment"
     ]
    }
   ],
   "source": [
    "t[0] = 'no'"
   ]
  },
  {
   "cell_type": "code",
   "execution_count": 12,
   "id": "63d221ff",
   "metadata": {},
   "outputs": [
    {
     "data": {
      "text/plain": [
       "'dharma'"
      ]
     },
     "execution_count": 12,
     "metadata": {},
     "output_type": "execute_result"
    }
   ],
   "source": [
    "s = 'dharma'\n",
    "s"
   ]
  },
  {
   "cell_type": "code",
   "execution_count": 13,
   "id": "ac2e4d71",
   "metadata": {},
   "outputs": [
    {
     "ename": "TypeError",
     "evalue": "'str' object does not support item assignment",
     "output_type": "error",
     "traceback": [
      "\u001b[1;31m---------------------------------------------------------------------------\u001b[0m",
      "\u001b[1;31mTypeError\u001b[0m                                 Traceback (most recent call last)",
      "Cell \u001b[1;32mIn[13], line 1\u001b[0m\n\u001b[1;32m----> 1\u001b[0m s[\u001b[38;5;241m0\u001b[39m] \u001b[38;5;241m=\u001b[39m \u001b[38;5;124m'\u001b[39m\u001b[38;5;124mhey\u001b[39m\u001b[38;5;124m'\u001b[39m\n",
      "\u001b[1;31mTypeError\u001b[0m: 'str' object does not support item assignment"
     ]
    }
   ],
   "source": [
    "s[0] = 'hey'"
   ]
  },
  {
   "cell_type": "code",
   "execution_count": 14,
   "id": "b5797b98",
   "metadata": {},
   "outputs": [
    {
     "name": "stdout",
     "output_type": "stream",
     "text": [
      "(1, 2, 3, 4, 5, 343, 'Hey this is a tuple')\n",
      "(1, 2, 3, 4, 5, 343, 'Hey this is a tuple')\n",
      "(1, 2, 3, 4, 5, 343, 'Hey this is a tuple')\n",
      "(1, 2, 3, 4, 5, 343, 'Hey this is a tuple')\n",
      "(1, 2, 3, 4, 5, 343, 'Hey this is a tuple')\n",
      "(1, 2, 3, 4, 5, 343, 'Hey this is a tuple')\n",
      "(1, 2, 3, 4, 5, 343, 'Hey this is a tuple')\n"
     ]
    }
   ],
   "source": [
    "for i in t:\n",
    "    print(t)"
   ]
  },
  {
   "cell_type": "code",
   "execution_count": 15,
   "id": "d5474f7d",
   "metadata": {},
   "outputs": [
    {
     "name": "stdout",
     "output_type": "stream",
     "text": [
      "Yes\n",
      "2\n",
      "3\n",
      "4\n",
      "4\n",
      "53\n",
      "hey this is list\n"
     ]
    }
   ],
   "source": [
    "for i in l:\n",
    "    print(i)"
   ]
  },
  {
   "cell_type": "code",
   "execution_count": 16,
   "id": "9776e2dc",
   "metadata": {},
   "outputs": [
    {
     "data": {
      "text/plain": [
       "7"
      ]
     },
     "execution_count": 16,
     "metadata": {},
     "output_type": "execute_result"
    }
   ],
   "source": [
    "len(l)"
   ]
  },
  {
   "cell_type": "code",
   "execution_count": 17,
   "id": "c6c53753",
   "metadata": {},
   "outputs": [
    {
     "name": "stdout",
     "output_type": "stream",
     "text": [
      "1\n",
      "2\n",
      "3\n",
      "4\n",
      "5\n",
      "343\n",
      "Hey this is a tuple\n"
     ]
    }
   ],
   "source": [
    "for i in range(len(t)):\n",
    "    print(t[i])"
   ]
  },
  {
   "cell_type": "code",
   "execution_count": 18,
   "id": "0f89844f",
   "metadata": {},
   "outputs": [
    {
     "name": "stdout",
     "output_type": "stream",
     "text": [
      "0\n",
      "1\n",
      "2\n",
      "3\n",
      "4\n",
      "5\n",
      "6\n"
     ]
    }
   ],
   "source": [
    "for i in range(len(l)):\n",
    "    print(i)"
   ]
  },
  {
   "cell_type": "code",
   "execution_count": 19,
   "id": "439c8ca0",
   "metadata": {},
   "outputs": [
    {
     "data": {
      "text/plain": [
       "1"
      ]
     },
     "execution_count": 19,
     "metadata": {},
     "output_type": "execute_result"
    }
   ],
   "source": [
    "t.count(3)"
   ]
  },
  {
   "cell_type": "code",
   "execution_count": 20,
   "id": "befab810",
   "metadata": {},
   "outputs": [
    {
     "data": {
      "text/plain": [
       "0"
      ]
     },
     "execution_count": 20,
     "metadata": {},
     "output_type": "execute_result"
    }
   ],
   "source": [
    "l.count(1)"
   ]
  },
  {
   "cell_type": "code",
   "execution_count": 21,
   "id": "8bfff3d7",
   "metadata": {},
   "outputs": [],
   "source": [
    "t1 = (1,2,34,5)\n",
    "t2 = (6,4,3,67,89)"
   ]
  },
  {
   "cell_type": "code",
   "execution_count": 22,
   "id": "ef450427",
   "metadata": {},
   "outputs": [
    {
     "data": {
      "text/plain": [
       "(1, 2, 34, 5, 6, 4, 3, 67, 89)"
      ]
     },
     "execution_count": 22,
     "metadata": {},
     "output_type": "execute_result"
    }
   ],
   "source": [
    "t1 + t2"
   ]
  },
  {
   "cell_type": "code",
   "execution_count": 23,
   "id": "c48e1e76",
   "metadata": {},
   "outputs": [
    {
     "data": {
      "text/plain": [
       "[1, 2, 34, 5]"
      ]
     },
     "execution_count": 23,
     "metadata": {},
     "output_type": "execute_result"
    }
   ],
   "source": [
    "t1 = list(t1)\n",
    "t1"
   ]
  },
  {
   "cell_type": "code",
   "execution_count": 24,
   "id": "78400a46",
   "metadata": {},
   "outputs": [],
   "source": [
    "t1.insert(2,'Yes insert is available')"
   ]
  },
  {
   "cell_type": "code",
   "execution_count": 25,
   "id": "4c2909f6",
   "metadata": {},
   "outputs": [
    {
     "data": {
      "text/plain": [
       "[1, 2, 'Yes insert is available', 34, 5]"
      ]
     },
     "execution_count": 25,
     "metadata": {},
     "output_type": "execute_result"
    }
   ],
   "source": [
    "t1"
   ]
  },
  {
   "cell_type": "markdown",
   "id": "58a1d2e6",
   "metadata": {},
   "source": [
    "### Sets "
   ]
  },
  {
   "cell_type": "code",
   "execution_count": 26,
   "id": "dd92e4ec",
   "metadata": {},
   "outputs": [],
   "source": [
    "s = set([1111,2,32,2,22,3,4,4,4,4,4,2,2,1,1,2,2,2,4,4,45,5,2,2,1,5,66,66,7,55,5,7,5,7,7,7,8,8,8,6,6,5,55,5,4,88,4,4,3, 'Hey', 'hey','Hey','hey'])"
   ]
  },
  {
   "cell_type": "code",
   "execution_count": 27,
   "id": "71da0751",
   "metadata": {},
   "outputs": [
    {
     "data": {
      "text/plain": [
       "{1, 1111, 2, 22, 3, 32, 4, 45, 5, 55, 6, 66, 7, 8, 88, 'Hey', 'hey'}"
      ]
     },
     "execution_count": 27,
     "metadata": {},
     "output_type": "execute_result"
    }
   ],
   "source": [
    "s"
   ]
  },
  {
   "cell_type": "code",
   "execution_count": 28,
   "id": "ec55114f",
   "metadata": {},
   "outputs": [
    {
     "ename": "TypeError",
     "evalue": "'set' object is not subscriptable",
     "output_type": "error",
     "traceback": [
      "\u001b[1;31m---------------------------------------------------------------------------\u001b[0m",
      "\u001b[1;31mTypeError\u001b[0m                                 Traceback (most recent call last)",
      "Cell \u001b[1;32mIn[28], line 1\u001b[0m\n\u001b[1;32m----> 1\u001b[0m \u001b[43ms\u001b[49m\u001b[43m[\u001b[49m\u001b[38;5;241;43m0\u001b[39;49m\u001b[43m]\u001b[49m\n",
      "\u001b[1;31mTypeError\u001b[0m: 'set' object is not subscriptable"
     ]
    }
   ],
   "source": [
    "s[0]"
   ]
  },
  {
   "cell_type": "code",
   "execution_count": 29,
   "id": "0fd6553a",
   "metadata": {},
   "outputs": [
    {
     "name": "stdout",
     "output_type": "stream",
     "text": [
      "32\n",
      "1\n",
      "2\n",
      "3\n",
      "4\n",
      "5\n",
      "66\n",
      "7\n",
      "8\n",
      "6\n",
      "45\n",
      "55\n",
      "22\n",
      "1111\n",
      "88\n",
      "Hey\n",
      "hey\n"
     ]
    }
   ],
   "source": [
    "for i in s:\n",
    "    print(i)"
   ]
  },
  {
   "cell_type": "code",
   "execution_count": 30,
   "id": "a5b8984b",
   "metadata": {},
   "outputs": [],
   "source": [
    " s = list(s)"
   ]
  },
  {
   "cell_type": "code",
   "execution_count": 31,
   "id": "be97e9c0",
   "metadata": {},
   "outputs": [
    {
     "data": {
      "text/plain": [
       "[32, 1, 2, 3, 4, 5, 66, 7, 8, 6, 45, 55, 22, 1111, 88, 'Hey', 'hey']"
      ]
     },
     "execution_count": 31,
     "metadata": {},
     "output_type": "execute_result"
    }
   ],
   "source": [
    "s"
   ]
  },
  {
   "cell_type": "code",
   "execution_count": 32,
   "id": "ba734bd2",
   "metadata": {},
   "outputs": [
    {
     "data": {
      "text/plain": [
       "['hey', 'Hey', 88, 1111, 22, 55, 45, 6, 8, 7, 66, 5, 4, 3, 2, 1, 32]"
      ]
     },
     "execution_count": 32,
     "metadata": {},
     "output_type": "execute_result"
    }
   ],
   "source": [
    "s[::-1]"
   ]
  },
  {
   "cell_type": "code",
   "execution_count": 33,
   "id": "4cb8e083",
   "metadata": {},
   "outputs": [],
   "source": [
    "p = {}"
   ]
  },
  {
   "cell_type": "code",
   "execution_count": 34,
   "id": "a4e3e51d",
   "metadata": {},
   "outputs": [
    {
     "data": {
      "text/plain": [
       "dict"
      ]
     },
     "execution_count": 34,
     "metadata": {},
     "output_type": "execute_result"
    }
   ],
   "source": [
    "type(p)"
   ]
  },
  {
   "cell_type": "code",
   "execution_count": 35,
   "id": "8673a4c5",
   "metadata": {},
   "outputs": [],
   "source": [
    "p= {1}"
   ]
  },
  {
   "cell_type": "code",
   "execution_count": 36,
   "id": "6ca21e89",
   "metadata": {},
   "outputs": [
    {
     "data": {
      "text/plain": [
       "set"
      ]
     },
     "execution_count": 36,
     "metadata": {},
     "output_type": "execute_result"
    }
   ],
   "source": [
    "type(p)"
   ]
  },
  {
   "cell_type": "code",
   "execution_count": 37,
   "id": "5b039c43",
   "metadata": {},
   "outputs": [],
   "source": [
    "p = {11,2,3,3,3,3,3,1,1,1,2,2,2,5,6,4,6,3,43,43,3,2,46,27,22,89}"
   ]
  },
  {
   "cell_type": "code",
   "execution_count": 38,
   "id": "58360f8f",
   "metadata": {},
   "outputs": [
    {
     "data": {
      "text/plain": [
       "{1, 2, 3, 4, 5, 6, 11, 22, 27, 43, 46, 89}"
      ]
     },
     "execution_count": 38,
     "metadata": {},
     "output_type": "execute_result"
    }
   ],
   "source": [
    "p"
   ]
  },
  {
   "cell_type": "code",
   "execution_count": 39,
   "id": "d40baa66",
   "metadata": {},
   "outputs": [
    {
     "data": {
      "text/plain": [
       "set"
      ]
     },
     "execution_count": 39,
     "metadata": {},
     "output_type": "execute_result"
    }
   ],
   "source": [
    "type(p)"
   ]
  },
  {
   "cell_type": "code",
   "execution_count": 40,
   "id": "4de43b0c",
   "metadata": {},
   "outputs": [],
   "source": [
    "p.add('add')"
   ]
  },
  {
   "cell_type": "code",
   "execution_count": 41,
   "id": "d1397711",
   "metadata": {},
   "outputs": [
    {
     "data": {
      "text/plain": [
       "{1, 11, 2, 22, 27, 3, 4, 43, 46, 5, 6, 89, 'add'}"
      ]
     },
     "execution_count": 41,
     "metadata": {},
     "output_type": "execute_result"
    }
   ],
   "source": [
    "p"
   ]
  },
  {
   "cell_type": "code",
   "execution_count": 42,
   "id": "c3e8e886",
   "metadata": {},
   "outputs": [
    {
     "data": {
      "text/plain": [
       "1"
      ]
     },
     "execution_count": 42,
     "metadata": {},
     "output_type": "execute_result"
    }
   ],
   "source": [
    "p.pop()"
   ]
  },
  {
   "cell_type": "code",
   "execution_count": 43,
   "id": "9bddf3a4",
   "metadata": {},
   "outputs": [
    {
     "data": {
      "text/plain": [
       "{11, 2, 22, 27, 3, 4, 43, 46, 5, 6, 89, 'add'}"
      ]
     },
     "execution_count": 43,
     "metadata": {},
     "output_type": "execute_result"
    }
   ],
   "source": [
    "p"
   ]
  },
  {
   "cell_type": "code",
   "execution_count": 44,
   "id": "231baad8",
   "metadata": {},
   "outputs": [
    {
     "ename": "TypeError",
     "evalue": "unhashable type: 'list'",
     "output_type": "error",
     "traceback": [
      "\u001b[1;31m---------------------------------------------------------------------------\u001b[0m",
      "\u001b[1;31mTypeError\u001b[0m                                 Traceback (most recent call last)",
      "Cell \u001b[1;32mIn[44], line 1\u001b[0m\n\u001b[1;32m----> 1\u001b[0m p \u001b[38;5;241m=\u001b[39m {\u001b[38;5;241m2\u001b[39m,\u001b[38;5;241m32\u001b[39m,\u001b[38;5;241m43\u001b[39m,\u001b[38;5;241m43\u001b[39m,\u001b[38;5;241m3\u001b[39m,\u001b[38;5;241m54\u001b[39m,\u001b[38;5;241m64\u001b[39m,[\u001b[38;5;241m1\u001b[39m,\u001b[38;5;241m2\u001b[39m,\u001b[38;5;241m3\u001b[39m,\u001b[38;5;241m4\u001b[39m,\u001b[38;5;241m4\u001b[39m,\u001b[38;5;241m55\u001b[39m,\u001b[38;5;241m5\u001b[39m]}\n",
      "\u001b[1;31mTypeError\u001b[0m: unhashable type: 'list'"
     ]
    }
   ],
   "source": [
    "p = {2,32,43,43,3,54,64,[1,2,3,4,4,55,5]}"
   ]
  },
  {
   "cell_type": "code",
   "execution_count": null,
   "id": "8b640f3c",
   "metadata": {},
   "outputs": [],
   "source": [
    "p"
   ]
  },
  {
   "cell_type": "code",
   "execution_count": 45,
   "id": "dd3aeed3",
   "metadata": {},
   "outputs": [
    {
     "data": {
      "text/plain": [
       "[32, 1, 2, 3, 4, 5, 66, 7, 8, 6, 45, 55, 22, 1111, 88, 'Hey', 'hey']"
      ]
     },
     "execution_count": 45,
     "metadata": {},
     "output_type": "execute_result"
    }
   ],
   "source": [
    "s"
   ]
  },
  {
   "cell_type": "code",
   "execution_count": 46,
   "id": "f652fb17",
   "metadata": {},
   "outputs": [],
   "source": [
    "s = {32, 1, 2, 3, 4, 5, 66, 7, 8, 6, 45, 'Hey', 55, 22, 1111, 88, 'hey'}"
   ]
  },
  {
   "cell_type": "code",
   "execution_count": 47,
   "id": "8f9c7e03",
   "metadata": {},
   "outputs": [
    {
     "data": {
      "text/plain": [
       "{1, 1111, 2, 22, 3, 32, 4, 45, 5, 55, 6, 66, 7, 8, 88, 'Hey', 'hey'}"
      ]
     },
     "execution_count": 47,
     "metadata": {},
     "output_type": "execute_result"
    }
   ],
   "source": [
    "s"
   ]
  },
  {
   "cell_type": "markdown",
   "id": "ad5e08c1",
   "metadata": {},
   "source": [
    "Set gives you an Alpha numeric unordered set, and it looks like ordered"
   ]
  },
  {
   "cell_type": "code",
   "execution_count": 48,
   "id": "71194623",
   "metadata": {},
   "outputs": [
    {
     "name": "stdout",
     "output_type": "stream",
     "text": [
      "1\n",
      "2\n",
      "3\n",
      "4\n",
      "5\n",
      "66\n",
      "7\n",
      "8\n",
      "6\n",
      "Hey\n",
      "22\n",
      "1111\n",
      "88\n",
      "32\n",
      "45\n",
      "55\n",
      "hey\n"
     ]
    }
   ],
   "source": [
    "for i in s:\n",
    "    print(i)"
   ]
  },
  {
   "cell_type": "code",
   "execution_count": 49,
   "id": "d1f9a0f8",
   "metadata": {},
   "outputs": [],
   "source": [
    "l = [1,2,3,4,55]"
   ]
  },
  {
   "cell_type": "code",
   "execution_count": 50,
   "id": "4a65a2fc",
   "metadata": {},
   "outputs": [
    {
     "data": {
      "text/plain": [
       "[1, 2, 3, 4, 55]"
      ]
     },
     "execution_count": 50,
     "metadata": {},
     "output_type": "execute_result"
    }
   ],
   "source": [
    "l"
   ]
  },
  {
   "cell_type": "code",
   "execution_count": 51,
   "id": "7252ba0f",
   "metadata": {},
   "outputs": [],
   "source": [
    "s = set(l)"
   ]
  },
  {
   "cell_type": "code",
   "execution_count": 52,
   "id": "d7beb05f",
   "metadata": {},
   "outputs": [
    {
     "data": {
      "text/plain": [
       "{1, 2, 3, 4, 55}"
      ]
     },
     "execution_count": 52,
     "metadata": {},
     "output_type": "execute_result"
    }
   ],
   "source": [
    "s"
   ]
  },
  {
   "cell_type": "code",
   "execution_count": 53,
   "id": "f27ec003",
   "metadata": {},
   "outputs": [
    {
     "data": {
      "text/plain": [
       "{1, 2, 3, 4, 55}"
      ]
     },
     "execution_count": 53,
     "metadata": {},
     "output_type": "execute_result"
    }
   ],
   "source": [
    "s"
   ]
  },
  {
   "cell_type": "code",
   "execution_count": 54,
   "id": "957a4a21",
   "metadata": {},
   "outputs": [
    {
     "data": {
      "text/plain": [
       "[1, 2, 3, 4, 55]"
      ]
     },
     "execution_count": 54,
     "metadata": {},
     "output_type": "execute_result"
    }
   ],
   "source": [
    "list(s)"
   ]
  },
  {
   "cell_type": "markdown",
   "id": "f7511f88",
   "metadata": {},
   "source": [
    "### Dictionary"
   ]
  },
  {
   "cell_type": "code",
   "execution_count": 55,
   "id": "c09f5048",
   "metadata": {},
   "outputs": [],
   "source": [
    "d = {'Name': 'Sub', 'Age':' 21F'}"
   ]
  },
  {
   "cell_type": "code",
   "execution_count": 56,
   "id": "270e2045",
   "metadata": {},
   "outputs": [
    {
     "data": {
      "text/plain": [
       "{'Name': 'Sub', 'Age': ' 21F'}"
      ]
     },
     "execution_count": 56,
     "metadata": {},
     "output_type": "execute_result"
    }
   ],
   "source": [
    "d"
   ]
  },
  {
   "cell_type": "code",
   "execution_count": 57,
   "id": "0a1595d9",
   "metadata": {},
   "outputs": [
    {
     "ename": "TypeError",
     "evalue": "unhashable type: 'list'",
     "output_type": "error",
     "traceback": [
      "\u001b[1;31m---------------------------------------------------------------------------\u001b[0m",
      "\u001b[1;31mTypeError\u001b[0m                                 Traceback (most recent call last)",
      "Cell \u001b[1;32mIn[57], line 1\u001b[0m\n\u001b[1;32m----> 1\u001b[0m d \u001b[38;5;241m=\u001b[39m {\u001b[38;5;124m'\u001b[39m\u001b[38;5;124mName\u001b[39m\u001b[38;5;124m'\u001b[39m: \u001b[38;5;124m'\u001b[39m\u001b[38;5;124mSub\u001b[39m\u001b[38;5;124m'\u001b[39m, \u001b[38;5;124m'\u001b[39m\u001b[38;5;124mAge\u001b[39m\u001b[38;5;124m'\u001b[39m:\u001b[38;5;124m'\u001b[39m\u001b[38;5;124m 21F\u001b[39m\u001b[38;5;124m'\u001b[39m,[\u001b[38;5;241m1\u001b[39m,\u001b[38;5;241m2\u001b[39m,\u001b[38;5;241m34\u001b[39m,\u001b[38;5;241m4\u001b[39m]: \u001b[38;5;124m'\u001b[39m\u001b[38;5;124mFSDAA\u001b[39m\u001b[38;5;124m'\u001b[39m}\n",
      "\u001b[1;31mTypeError\u001b[0m: unhashable type: 'list'"
     ]
    }
   ],
   "source": [
    "d = {'Name': 'Sub', 'Age':' 21F',[1,2,34,4]: 'FSDAA'}"
   ]
  },
  {
   "cell_type": "markdown",
   "id": "5334cafc",
   "metadata": {},
   "source": [
    "Can not add lists as keys in the dictonary"
   ]
  },
  {
   "cell_type": "code",
   "execution_count": 58,
   "id": "ad64b138",
   "metadata": {},
   "outputs": [],
   "source": [
    "d = {'Name': 'Sub', 'Age':' 21F',\"[1,2,34,4]\": 'FSDAA'}"
   ]
  },
  {
   "cell_type": "code",
   "execution_count": 59,
   "id": "65020355",
   "metadata": {},
   "outputs": [
    {
     "data": {
      "text/plain": [
       "{'Name': 'Sub', 'Age': ' 21F', '[1,2,34,4]': 'FSDAA'}"
      ]
     },
     "execution_count": 59,
     "metadata": {},
     "output_type": "execute_result"
    }
   ],
   "source": [
    "d"
   ]
  },
  {
   "cell_type": "markdown",
   "id": "95f1ac8c",
   "metadata": {},
   "source": [
    "can add lists, tuples, Sets, Dictionaries as Values in Dict"
   ]
  },
  {
   "cell_type": "code",
   "execution_count": 60,
   "id": "67e1dc5f",
   "metadata": {},
   "outputs": [],
   "source": [
    "d = {'Keys': [1,2,3,4,5,5],'Tuples': (1,2,3,5,6,7,7), 'Setss': {1,2,3,4,4,4,2,2,1,2}, 'Key2': {'x': 10, 'y': 15}}"
   ]
  },
  {
   "cell_type": "code",
   "execution_count": 61,
   "id": "0bae2af2",
   "metadata": {},
   "outputs": [
    {
     "data": {
      "text/plain": [
       "{'Keys': [1, 2, 3, 4, 5, 5],\n",
       " 'Tuples': (1, 2, 3, 5, 6, 7, 7),\n",
       " 'Setss': {1, 2, 3, 4},\n",
       " 'Key2': {'x': 10, 'y': 15}}"
      ]
     },
     "execution_count": 61,
     "metadata": {},
     "output_type": "execute_result"
    }
   ],
   "source": [
    "d"
   ]
  },
  {
   "cell_type": "code",
   "execution_count": 62,
   "id": "f18f1eff",
   "metadata": {},
   "outputs": [
    {
     "ename": "KeyError",
     "evalue": "0",
     "output_type": "error",
     "traceback": [
      "\u001b[1;31m---------------------------------------------------------------------------\u001b[0m",
      "\u001b[1;31mKeyError\u001b[0m                                  Traceback (most recent call last)",
      "Cell \u001b[1;32mIn[62], line 1\u001b[0m\n\u001b[1;32m----> 1\u001b[0m \u001b[43md\u001b[49m\u001b[43m[\u001b[49m\u001b[38;5;241;43m0\u001b[39;49m\u001b[43m]\u001b[49m\n",
      "\u001b[1;31mKeyError\u001b[0m: 0"
     ]
    }
   ],
   "source": [
    "d[0]"
   ]
  },
  {
   "cell_type": "code",
   "execution_count": null,
   "id": "c022422d",
   "metadata": {},
   "outputs": [],
   "source": [
    "  d['Keys']"
   ]
  },
  {
   "cell_type": "code",
   "execution_count": 63,
   "id": "9bb4fe33",
   "metadata": {},
   "outputs": [
    {
     "data": {
      "text/plain": [
       "4"
      ]
     },
     "execution_count": 63,
     "metadata": {},
     "output_type": "execute_result"
    }
   ],
   "source": [
    "d['Keys'][3]"
   ]
  },
  {
   "cell_type": "code",
   "execution_count": 64,
   "id": "e63ce819",
   "metadata": {},
   "outputs": [
    {
     "data": {
      "text/plain": [
       "15"
      ]
     },
     "execution_count": 64,
     "metadata": {},
     "output_type": "execute_result"
    }
   ],
   "source": [
    "d['Key2']['y']"
   ]
  },
  {
   "cell_type": "code",
   "execution_count": 65,
   "id": "a2047e9d",
   "metadata": {},
   "outputs": [
    {
     "name": "stdout",
     "output_type": "stream",
     "text": [
      "[1, 2, 3, 4, 5, 5]\n",
      "(1, 2, 3, 5, 6, 7, 7)\n",
      "{1, 2, 3, 4}\n",
      "{'x': 10, 'y': 15}\n"
     ]
    }
   ],
   "source": [
    "for i in d:\n",
    "    print(d[i])"
   ]
  },
  {
   "cell_type": "code",
   "execution_count": 66,
   "id": "8b53bc68",
   "metadata": {},
   "outputs": [
    {
     "name": "stdout",
     "output_type": "stream",
     "text": [
      "[1, 2, 3, 4, 5, 5]\n",
      "(1, 2, 3, 5, 6, 7, 7)\n",
      "{1, 2, 3, 4}\n",
      "{'x': 10, 'y': 15}\n"
     ]
    }
   ],
   "source": [
    "for i in d.keys():\n",
    "    print(d[i])"
   ]
  },
  {
   "cell_type": "code",
   "execution_count": 67,
   "id": "2d9cd3a9",
   "metadata": {},
   "outputs": [
    {
     "name": "stdout",
     "output_type": "stream",
     "text": [
      "(1, 2, 3, 5, 6, 7, 7)\n"
     ]
    }
   ],
   "source": [
    "t = []\n",
    "for i in d.values():\n",
    "    if type(i) == tuple:\n",
    "        print(i)\n",
    "        for j in i:\n",
    "            t.append(j)"
   ]
  },
  {
   "cell_type": "code",
   "execution_count": 68,
   "id": "d18c1f65",
   "metadata": {},
   "outputs": [
    {
     "data": {
      "text/plain": [
       "[1, 2, 3, 5, 6, 7, 7]"
      ]
     },
     "execution_count": 68,
     "metadata": {},
     "output_type": "execute_result"
    }
   ],
   "source": [
    "t"
   ]
  },
  {
   "cell_type": "code",
   "execution_count": 69,
   "id": "841401e5",
   "metadata": {},
   "outputs": [],
   "source": [
    "t = []\n",
    "for i in d.keys():\n",
    "    if type(i) == list:\n",
    "        print(i)\n",
    "        for j in i:\n",
    "            t.append(j)\n",
    "       "
   ]
  },
  {
   "cell_type": "code",
   "execution_count": 70,
   "id": "cd508168",
   "metadata": {},
   "outputs": [
    {
     "data": {
      "text/plain": [
       "[]"
      ]
     },
     "execution_count": 70,
     "metadata": {},
     "output_type": "execute_result"
    }
   ],
   "source": [
    "t"
   ]
  },
  {
   "cell_type": "code",
   "execution_count": 71,
   "id": "64dc4482",
   "metadata": {},
   "outputs": [],
   "source": [
    "d['Key 3'] = \"This is actually the key 5\""
   ]
  },
  {
   "cell_type": "code",
   "execution_count": 72,
   "id": "baff7b31",
   "metadata": {},
   "outputs": [
    {
     "data": {
      "text/plain": [
       "{'Keys': [1, 2, 3, 4, 5, 5],\n",
       " 'Tuples': (1, 2, 3, 5, 6, 7, 7),\n",
       " 'Setss': {1, 2, 3, 4},\n",
       " 'Key2': {'x': 10, 'y': 15},\n",
       " 'Key 3': 'This is actually the key 5'}"
      ]
     },
     "execution_count": 72,
     "metadata": {},
     "output_type": "execute_result"
    }
   ],
   "source": [
    "d"
   ]
  },
  {
   "cell_type": "code",
   "execution_count": 73,
   "id": "40153c99",
   "metadata": {},
   "outputs": [],
   "source": [
    "d['Key2'] = 'Yes'"
   ]
  },
  {
   "cell_type": "code",
   "execution_count": 74,
   "id": "9b91606e",
   "metadata": {},
   "outputs": [
    {
     "data": {
      "text/plain": [
       "{'Keys': [1, 2, 3, 4, 5, 5],\n",
       " 'Tuples': (1, 2, 3, 5, 6, 7, 7),\n",
       " 'Setss': {1, 2, 3, 4},\n",
       " 'Key2': 'Yes',\n",
       " 'Key 3': 'This is actually the key 5'}"
      ]
     },
     "execution_count": 74,
     "metadata": {},
     "output_type": "execute_result"
    }
   ],
   "source": [
    "d"
   ]
  },
  {
   "cell_type": "code",
   "execution_count": 75,
   "id": "d34669b3",
   "metadata": {},
   "outputs": [],
   "source": [
    "d1 = {}\n",
    "for i in range(20):\n",
    "    d[i] = i**2"
   ]
  },
  {
   "cell_type": "code",
   "execution_count": 76,
   "id": "fc28327d",
   "metadata": {},
   "outputs": [
    {
     "data": {
      "text/plain": [
       "{'Keys': [1, 2, 3, 4, 5, 5],\n",
       " 'Tuples': (1, 2, 3, 5, 6, 7, 7),\n",
       " 'Setss': {1, 2, 3, 4},\n",
       " 'Key2': 'Yes',\n",
       " 'Key 3': 'This is actually the key 5',\n",
       " 0: 0,\n",
       " 1: 1,\n",
       " 2: 4,\n",
       " 3: 9,\n",
       " 4: 16,\n",
       " 5: 25,\n",
       " 6: 36,\n",
       " 7: 49,\n",
       " 8: 64,\n",
       " 9: 81,\n",
       " 10: 100,\n",
       " 11: 121,\n",
       " 12: 144,\n",
       " 13: 169,\n",
       " 14: 196,\n",
       " 15: 225,\n",
       " 16: 256,\n",
       " 17: 289,\n",
       " 18: 324,\n",
       " 19: 361}"
      ]
     },
     "execution_count": 76,
     "metadata": {},
     "output_type": "execute_result"
    }
   ],
   "source": [
    "d"
   ]
  },
  {
   "cell_type": "code",
   "execution_count": 77,
   "id": "2044b4ac",
   "metadata": {},
   "outputs": [],
   "source": [
    "l = ['rap','man','sam','sanjay']"
   ]
  },
  {
   "cell_type": "code",
   "execution_count": 78,
   "id": "43266823",
   "metadata": {},
   "outputs": [],
   "source": [
    "d = {}\n",
    "for i in l:\n",
    "    d[i] = i.endswith('y')"
   ]
  },
  {
   "cell_type": "code",
   "execution_count": 79,
   "id": "62b408dd",
   "metadata": {},
   "outputs": [
    {
     "data": {
      "text/plain": [
       "{'rap': False, 'man': False, 'sam': False, 'sanjay': True}"
      ]
     },
     "execution_count": 79,
     "metadata": {},
     "output_type": "execute_result"
    }
   ],
   "source": [
    "d"
   ]
  },
  {
   "cell_type": "code",
   "execution_count": 80,
   "id": "1875de67",
   "metadata": {},
   "outputs": [
    {
     "data": {
      "text/plain": [
       "{0: 0,\n",
       " 1: 1,\n",
       " 2: 8,\n",
       " 3: 27,\n",
       " 4: 64,\n",
       " 5: 125,\n",
       " 6: 216,\n",
       " 7: 343,\n",
       " 8: 512,\n",
       " 9: 729,\n",
       " 10: 1000,\n",
       " 11: 1331,\n",
       " 12: 1728,\n",
       " 13: 2197,\n",
       " 14: 2744,\n",
       " 15: 3375,\n",
       " 16: 4096,\n",
       " 17: 4913,\n",
       " 18: 5832,\n",
       " 19: 6859,\n",
       " 20: 8000,\n",
       " 21: 9261,\n",
       " 22: 10648,\n",
       " 23: 12167,\n",
       " 24: 13824,\n",
       " 25: 15625,\n",
       " 26: 17576,\n",
       " 27: 19683,\n",
       " 28: 21952,\n",
       " 29: 24389,\n",
       " 30: 27000,\n",
       " 31: 29791,\n",
       " 32: 32768,\n",
       " 33: 35937,\n",
       " 34: 39304,\n",
       " 35: 42875,\n",
       " 36: 46656,\n",
       " 37: 50653,\n",
       " 38: 54872,\n",
       " 39: 59319,\n",
       " 40: 64000,\n",
       " 41: 68921,\n",
       " 42: 74088,\n",
       " 43: 79507,\n",
       " 44: 85184,\n",
       " 45: 91125,\n",
       " 46: 97336,\n",
       " 47: 103823,\n",
       " 48: 110592,\n",
       " 49: 117649,\n",
       " 50: 125000,\n",
       " 51: 132651,\n",
       " 52: 140608,\n",
       " 53: 148877,\n",
       " 54: 157464,\n",
       " 55: 166375,\n",
       " 56: 175616,\n",
       " 57: 185193,\n",
       " 58: 195112,\n",
       " 59: 205379,\n",
       " 60: 216000,\n",
       " 61: 226981,\n",
       " 62: 238328,\n",
       " 63: 250047,\n",
       " 64: 262144,\n",
       " 65: 274625,\n",
       " 66: 287496,\n",
       " 67: 300763,\n",
       " 68: 314432,\n",
       " 69: 328509,\n",
       " 70: 343000,\n",
       " 71: 357911,\n",
       " 72: 373248,\n",
       " 73: 389017,\n",
       " 74: 405224,\n",
       " 75: 421875,\n",
       " 76: 438976,\n",
       " 77: 456533,\n",
       " 78: 474552,\n",
       " 79: 493039,\n",
       " 80: 512000,\n",
       " 81: 531441,\n",
       " 82: 551368,\n",
       " 83: 571787,\n",
       " 84: 592704,\n",
       " 85: 614125,\n",
       " 86: 636056,\n",
       " 87: 658503,\n",
       " 88: 681472,\n",
       " 89: 704969,\n",
       " 90: 729000,\n",
       " 91: 753571,\n",
       " 92: 778688,\n",
       " 93: 804357,\n",
       " 94: 830584,\n",
       " 95: 857375,\n",
       " 96: 884736,\n",
       " 97: 912673,\n",
       " 98: 941192,\n",
       " 99: 970299,\n",
       " 100: 1000000,\n",
       " 101: 1030301,\n",
       " 102: 1061208,\n",
       " 103: 1092727,\n",
       " 104: 1124864,\n",
       " 105: 1157625,\n",
       " 106: 1191016,\n",
       " 107: 1225043,\n",
       " 108: 1259712,\n",
       " 109: 1295029,\n",
       " 110: 1331000,\n",
       " 111: 1367631,\n",
       " 112: 1404928,\n",
       " 113: 1442897,\n",
       " 114: 1481544,\n",
       " 115: 1520875,\n",
       " 116: 1560896,\n",
       " 117: 1601613,\n",
       " 118: 1643032,\n",
       " 119: 1685159,\n",
       " 120: 1728000,\n",
       " 121: 1771561,\n",
       " 122: 1815848,\n",
       " 123: 1860867,\n",
       " 124: 1906624,\n",
       " 125: 1953125,\n",
       " 126: 2000376,\n",
       " 127: 2048383,\n",
       " 128: 2097152,\n",
       " 129: 2146689,\n",
       " 130: 2197000,\n",
       " 131: 2248091,\n",
       " 132: 2299968,\n",
       " 133: 2352637,\n",
       " 134: 2406104,\n",
       " 135: 2460375,\n",
       " 136: 2515456,\n",
       " 137: 2571353,\n",
       " 138: 2628072,\n",
       " 139: 2685619,\n",
       " 140: 2744000,\n",
       " 141: 2803221,\n",
       " 142: 2863288,\n",
       " 143: 2924207,\n",
       " 144: 2985984,\n",
       " 145: 3048625,\n",
       " 146: 3112136,\n",
       " 147: 3176523,\n",
       " 148: 3241792,\n",
       " 149: 3307949,\n",
       " 150: 3375000,\n",
       " 151: 3442951,\n",
       " 152: 3511808,\n",
       " 153: 3581577,\n",
       " 154: 3652264,\n",
       " 155: 3723875,\n",
       " 156: 3796416,\n",
       " 157: 3869893,\n",
       " 158: 3944312,\n",
       " 159: 4019679,\n",
       " 160: 4096000,\n",
       " 161: 4173281,\n",
       " 162: 4251528,\n",
       " 163: 4330747,\n",
       " 164: 4410944,\n",
       " 165: 4492125,\n",
       " 166: 4574296,\n",
       " 167: 4657463,\n",
       " 168: 4741632,\n",
       " 169: 4826809,\n",
       " 170: 4913000,\n",
       " 171: 5000211,\n",
       " 172: 5088448,\n",
       " 173: 5177717,\n",
       " 174: 5268024,\n",
       " 175: 5359375,\n",
       " 176: 5451776,\n",
       " 177: 5545233,\n",
       " 178: 5639752,\n",
       " 179: 5735339,\n",
       " 180: 5832000,\n",
       " 181: 5929741,\n",
       " 182: 6028568,\n",
       " 183: 6128487,\n",
       " 184: 6229504,\n",
       " 185: 6331625,\n",
       " 186: 6434856,\n",
       " 187: 6539203,\n",
       " 188: 6644672,\n",
       " 189: 6751269,\n",
       " 190: 6859000,\n",
       " 191: 6967871,\n",
       " 192: 7077888,\n",
       " 193: 7189057,\n",
       " 194: 7301384,\n",
       " 195: 7414875,\n",
       " 196: 7529536,\n",
       " 197: 7645373,\n",
       " 198: 7762392,\n",
       " 199: 7880599,\n",
       " 200: 8000000,\n",
       " 201: 8120601,\n",
       " 202: 8242408,\n",
       " 203: 8365427,\n",
       " 204: 8489664,\n",
       " 205: 8615125,\n",
       " 206: 8741816,\n",
       " 207: 8869743,\n",
       " 208: 8998912,\n",
       " 209: 9129329,\n",
       " 210: 9261000,\n",
       " 211: 9393931,\n",
       " 212: 9528128,\n",
       " 213: 9663597,\n",
       " 214: 9800344,\n",
       " 215: 9938375,\n",
       " 216: 10077696,\n",
       " 217: 10218313,\n",
       " 218: 10360232,\n",
       " 219: 10503459,\n",
       " 220: 10648000,\n",
       " 221: 10793861,\n",
       " 222: 10941048,\n",
       " 223: 11089567,\n",
       " 224: 11239424,\n",
       " 225: 11390625,\n",
       " 226: 11543176,\n",
       " 227: 11697083,\n",
       " 228: 11852352,\n",
       " 229: 12008989,\n",
       " 230: 12167000,\n",
       " 231: 12326391,\n",
       " 232: 12487168,\n",
       " 233: 12649337,\n",
       " 234: 12812904,\n",
       " 235: 12977875,\n",
       " 236: 13144256,\n",
       " 237: 13312053,\n",
       " 238: 13481272,\n",
       " 239: 13651919,\n",
       " 240: 13824000,\n",
       " 241: 13997521,\n",
       " 242: 14172488,\n",
       " 243: 14348907,\n",
       " 244: 14526784,\n",
       " 245: 14706125,\n",
       " 246: 14886936,\n",
       " 247: 15069223,\n",
       " 248: 15252992,\n",
       " 249: 15438249,\n",
       " 250: 15625000,\n",
       " 251: 15813251,\n",
       " 252: 16003008,\n",
       " 253: 16194277,\n",
       " 254: 16387064,\n",
       " 255: 16581375,\n",
       " 256: 16777216,\n",
       " 257: 16974593,\n",
       " 258: 17173512,\n",
       " 259: 17373979,\n",
       " 260: 17576000,\n",
       " 261: 17779581,\n",
       " 262: 17984728,\n",
       " 263: 18191447,\n",
       " 264: 18399744,\n",
       " 265: 18609625,\n",
       " 266: 18821096,\n",
       " 267: 19034163,\n",
       " 268: 19248832,\n",
       " 269: 19465109,\n",
       " 270: 19683000,\n",
       " 271: 19902511,\n",
       " 272: 20123648,\n",
       " 273: 20346417,\n",
       " 274: 20570824,\n",
       " 275: 20796875,\n",
       " 276: 21024576,\n",
       " 277: 21253933,\n",
       " 278: 21484952,\n",
       " 279: 21717639,\n",
       " 280: 21952000,\n",
       " 281: 22188041,\n",
       " 282: 22425768,\n",
       " 283: 22665187,\n",
       " 284: 22906304,\n",
       " 285: 23149125,\n",
       " 286: 23393656,\n",
       " 287: 23639903,\n",
       " 288: 23887872,\n",
       " 289: 24137569,\n",
       " 290: 24389000,\n",
       " 291: 24642171,\n",
       " 292: 24897088,\n",
       " 293: 25153757,\n",
       " 294: 25412184,\n",
       " 295: 25672375,\n",
       " 296: 25934336,\n",
       " 297: 26198073,\n",
       " 298: 26463592,\n",
       " 299: 26730899,\n",
       " 300: 27000000,\n",
       " 301: 27270901,\n",
       " 302: 27543608,\n",
       " 303: 27818127,\n",
       " 304: 28094464,\n",
       " 305: 28372625,\n",
       " 306: 28652616,\n",
       " 307: 28934443,\n",
       " 308: 29218112,\n",
       " 309: 29503629,\n",
       " 310: 29791000,\n",
       " 311: 30080231,\n",
       " 312: 30371328,\n",
       " 313: 30664297,\n",
       " 314: 30959144,\n",
       " 315: 31255875,\n",
       " 316: 31554496,\n",
       " 317: 31855013,\n",
       " 318: 32157432,\n",
       " 319: 32461759,\n",
       " 320: 32768000,\n",
       " 321: 33076161,\n",
       " 322: 33386248,\n",
       " 323: 33698267,\n",
       " 324: 34012224,\n",
       " 325: 34328125,\n",
       " 326: 34645976,\n",
       " 327: 34965783,\n",
       " 328: 35287552,\n",
       " 329: 35611289,\n",
       " 330: 35937000,\n",
       " 331: 36264691,\n",
       " 332: 36594368,\n",
       " 333: 36926037,\n",
       " 334: 37259704,\n",
       " 335: 37595375,\n",
       " 336: 37933056,\n",
       " 337: 38272753,\n",
       " 338: 38614472,\n",
       " 339: 38958219,\n",
       " 340: 39304000,\n",
       " 341: 39651821,\n",
       " 342: 40001688,\n",
       " 343: 40353607,\n",
       " 344: 40707584,\n",
       " 345: 41063625,\n",
       " 346: 41421736,\n",
       " 347: 41781923,\n",
       " 348: 42144192,\n",
       " 349: 42508549,\n",
       " 350: 42875000,\n",
       " 351: 43243551,\n",
       " 352: 43614208,\n",
       " 353: 43986977,\n",
       " 354: 44361864,\n",
       " 355: 44738875,\n",
       " 356: 45118016,\n",
       " 357: 45499293,\n",
       " 358: 45882712,\n",
       " 359: 46268279,\n",
       " 360: 46656000,\n",
       " 361: 47045881,\n",
       " 362: 47437928,\n",
       " 363: 47832147,\n",
       " 364: 48228544,\n",
       " 365: 48627125,\n",
       " 366: 49027896,\n",
       " 367: 49430863,\n",
       " 368: 49836032,\n",
       " 369: 50243409,\n",
       " 370: 50653000,\n",
       " 371: 51064811,\n",
       " 372: 51478848,\n",
       " 373: 51895117,\n",
       " 374: 52313624,\n",
       " 375: 52734375,\n",
       " 376: 53157376,\n",
       " 377: 53582633,\n",
       " 378: 54010152,\n",
       " 379: 54439939,\n",
       " 380: 54872000,\n",
       " 381: 55306341,\n",
       " 382: 55742968,\n",
       " 383: 56181887,\n",
       " 384: 56623104,\n",
       " 385: 57066625,\n",
       " 386: 57512456,\n",
       " 387: 57960603,\n",
       " 388: 58411072,\n",
       " 389: 58863869,\n",
       " 390: 59319000,\n",
       " 391: 59776471,\n",
       " 392: 60236288,\n",
       " 393: 60698457,\n",
       " 394: 61162984,\n",
       " 395: 61629875,\n",
       " 396: 62099136,\n",
       " 397: 62570773,\n",
       " 398: 63044792,\n",
       " 399: 63521199,\n",
       " 400: 64000000,\n",
       " 401: 64481201,\n",
       " 402: 64964808,\n",
       " 403: 65450827,\n",
       " 404: 65939264,\n",
       " 405: 66430125,\n",
       " 406: 66923416,\n",
       " 407: 67419143,\n",
       " 408: 67917312,\n",
       " 409: 68417929,\n",
       " 410: 68921000,\n",
       " 411: 69426531,\n",
       " 412: 69934528,\n",
       " 413: 70444997,\n",
       " 414: 70957944,\n",
       " 415: 71473375,\n",
       " 416: 71991296,\n",
       " 417: 72511713,\n",
       " 418: 73034632,\n",
       " 419: 73560059,\n",
       " 420: 74088000,\n",
       " 421: 74618461,\n",
       " 422: 75151448,\n",
       " 423: 75686967,\n",
       " 424: 76225024,\n",
       " 425: 76765625,\n",
       " 426: 77308776,\n",
       " 427: 77854483,\n",
       " 428: 78402752,\n",
       " 429: 78953589,\n",
       " 430: 79507000,\n",
       " 431: 80062991,\n",
       " 432: 80621568,\n",
       " 433: 81182737,\n",
       " 434: 81746504,\n",
       " 435: 82312875,\n",
       " 436: 82881856,\n",
       " 437: 83453453,\n",
       " 438: 84027672,\n",
       " 439: 84604519,\n",
       " 440: 85184000,\n",
       " 441: 85766121,\n",
       " 442: 86350888,\n",
       " 443: 86938307,\n",
       " 444: 87528384,\n",
       " 445: 88121125,\n",
       " 446: 88716536,\n",
       " 447: 89314623,\n",
       " 448: 89915392,\n",
       " 449: 90518849,\n",
       " 450: 91125000,\n",
       " 451: 91733851,\n",
       " 452: 92345408,\n",
       " 453: 92959677,\n",
       " 454: 93576664,\n",
       " 455: 94196375,\n",
       " 456: 94818816,\n",
       " 457: 95443993,\n",
       " 458: 96071912,\n",
       " 459: 96702579,\n",
       " 460: 97336000,\n",
       " 461: 97972181,\n",
       " 462: 98611128,\n",
       " 463: 99252847,\n",
       " 464: 99897344,\n",
       " 465: 100544625,\n",
       " 466: 101194696,\n",
       " 467: 101847563,\n",
       " 468: 102503232,\n",
       " 469: 103161709,\n",
       " 470: 103823000,\n",
       " 471: 104487111,\n",
       " 472: 105154048,\n",
       " 473: 105823817,\n",
       " 474: 106496424,\n",
       " 475: 107171875,\n",
       " 476: 107850176,\n",
       " 477: 108531333,\n",
       " 478: 109215352,\n",
       " 479: 109902239,\n",
       " 480: 110592000,\n",
       " 481: 111284641,\n",
       " 482: 111980168,\n",
       " 483: 112678587,\n",
       " 484: 113379904,\n",
       " 485: 114084125,\n",
       " 486: 114791256,\n",
       " 487: 115501303,\n",
       " 488: 116214272,\n",
       " 489: 116930169,\n",
       " 490: 117649000,\n",
       " 491: 118370771,\n",
       " 492: 119095488,\n",
       " 493: 119823157,\n",
       " 494: 120553784,\n",
       " 495: 121287375,\n",
       " 496: 122023936,\n",
       " 497: 122763473,\n",
       " 498: 123505992,\n",
       " 499: 124251499,\n",
       " 500: 125000000,\n",
       " 501: 125751501,\n",
       " 502: 126506008,\n",
       " 503: 127263527,\n",
       " 504: 128024064,\n",
       " 505: 128787625,\n",
       " 506: 129554216,\n",
       " 507: 130323843,\n",
       " 508: 131096512,\n",
       " 509: 131872229,\n",
       " 510: 132651000,\n",
       " 511: 133432831,\n",
       " 512: 134217728,\n",
       " 513: 135005697,\n",
       " 514: 135796744,\n",
       " 515: 136590875,\n",
       " 516: 137388096,\n",
       " 517: 138188413,\n",
       " 518: 138991832,\n",
       " 519: 139798359,\n",
       " 520: 140608000,\n",
       " 521: 141420761,\n",
       " 522: 142236648,\n",
       " 523: 143055667,\n",
       " 524: 143877824,\n",
       " 525: 144703125,\n",
       " 526: 145531576,\n",
       " 527: 146363183,\n",
       " 528: 147197952,\n",
       " 529: 148035889,\n",
       " 530: 148877000,\n",
       " 531: 149721291,\n",
       " 532: 150568768,\n",
       " 533: 151419437,\n",
       " 534: 152273304,\n",
       " 535: 153130375,\n",
       " 536: 153990656,\n",
       " 537: 154854153,\n",
       " 538: 155720872,\n",
       " 539: 156590819,\n",
       " 540: 157464000,\n",
       " 541: 158340421,\n",
       " 542: 159220088,\n",
       " 543: 160103007,\n",
       " 544: 160989184,\n",
       " 545: 161878625,\n",
       " 546: 162771336,\n",
       " 547: 163667323,\n",
       " 548: 164566592,\n",
       " 549: 165469149,\n",
       " 550: 166375000,\n",
       " 551: 167284151,\n",
       " 552: 168196608,\n",
       " 553: 169112377,\n",
       " 554: 170031464,\n",
       " 555: 170953875,\n",
       " 556: 171879616,\n",
       " 557: 172808693,\n",
       " 558: 173741112,\n",
       " 559: 174676879,\n",
       " 560: 175616000,\n",
       " 561: 176558481,\n",
       " 562: 177504328,\n",
       " 563: 178453547,\n",
       " 564: 179406144,\n",
       " 565: 180362125,\n",
       " 566: 181321496,\n",
       " 567: 182284263,\n",
       " 568: 183250432,\n",
       " 569: 184220009,\n",
       " 570: 185193000,\n",
       " 571: 186169411,\n",
       " 572: 187149248,\n",
       " 573: 188132517,\n",
       " 574: 189119224,\n",
       " 575: 190109375,\n",
       " 576: 191102976,\n",
       " 577: 192100033,\n",
       " 578: 193100552,\n",
       " 579: 194104539,\n",
       " 580: 195112000,\n",
       " 581: 196122941,\n",
       " 582: 197137368,\n",
       " 583: 198155287,\n",
       " 584: 199176704,\n",
       " 585: 200201625,\n",
       " 586: 201230056,\n",
       " 587: 202262003,\n",
       " 588: 203297472,\n",
       " 589: 204336469,\n",
       " 590: 205379000,\n",
       " 591: 206425071,\n",
       " 592: 207474688,\n",
       " 593: 208527857,\n",
       " 594: 209584584,\n",
       " 595: 210644875,\n",
       " 596: 211708736,\n",
       " 597: 212776173,\n",
       " 598: 213847192,\n",
       " 599: 214921799,\n",
       " 600: 216000000,\n",
       " 601: 217081801,\n",
       " 602: 218167208,\n",
       " 603: 219256227,\n",
       " 604: 220348864,\n",
       " 605: 221445125,\n",
       " 606: 222545016,\n",
       " 607: 223648543,\n",
       " 608: 224755712,\n",
       " 609: 225866529,\n",
       " 610: 226981000,\n",
       " 611: 228099131,\n",
       " 612: 229220928,\n",
       " 613: 230346397,\n",
       " 614: 231475544,\n",
       " 615: 232608375,\n",
       " 616: 233744896,\n",
       " 617: 234885113,\n",
       " 618: 236029032,\n",
       " 619: 237176659,\n",
       " 620: 238328000,\n",
       " 621: 239483061,\n",
       " 622: 240641848,\n",
       " 623: 241804367,\n",
       " 624: 242970624,\n",
       " 625: 244140625,\n",
       " 626: 245314376,\n",
       " 627: 246491883,\n",
       " 628: 247673152,\n",
       " 629: 248858189,\n",
       " 630: 250047000,\n",
       " 631: 251239591,\n",
       " 632: 252435968,\n",
       " 633: 253636137,\n",
       " 634: 254840104,\n",
       " 635: 256047875,\n",
       " 636: 257259456,\n",
       " 637: 258474853,\n",
       " 638: 259694072,\n",
       " 639: 260917119,\n",
       " 640: 262144000,\n",
       " 641: 263374721,\n",
       " 642: 264609288,\n",
       " 643: 265847707,\n",
       " 644: 267089984,\n",
       " 645: 268336125,\n",
       " 646: 269586136,\n",
       " 647: 270840023,\n",
       " 648: 272097792,\n",
       " 649: 273359449,\n",
       " 650: 274625000,\n",
       " 651: 275894451,\n",
       " 652: 277167808,\n",
       " 653: 278445077,\n",
       " 654: 279726264,\n",
       " 655: 281011375,\n",
       " 656: 282300416,\n",
       " 657: 283593393,\n",
       " 658: 284890312,\n",
       " 659: 286191179,\n",
       " 660: 287496000,\n",
       " 661: 288804781,\n",
       " 662: 290117528,\n",
       " 663: 291434247,\n",
       " 664: 292754944,\n",
       " 665: 294079625,\n",
       " 666: 295408296,\n",
       " 667: 296740963,\n",
       " 668: 298077632,\n",
       " 669: 299418309,\n",
       " 670: 300763000,\n",
       " 671: 302111711,\n",
       " 672: 303464448,\n",
       " 673: 304821217,\n",
       " 674: 306182024,\n",
       " 675: 307546875,\n",
       " 676: 308915776,\n",
       " 677: 310288733,\n",
       " 678: 311665752,\n",
       " 679: 313046839,\n",
       " 680: 314432000,\n",
       " 681: 315821241,\n",
       " 682: 317214568,\n",
       " 683: 318611987,\n",
       " 684: 320013504,\n",
       " 685: 321419125,\n",
       " 686: 322828856,\n",
       " 687: 324242703,\n",
       " 688: 325660672,\n",
       " 689: 327082769,\n",
       " 690: 328509000,\n",
       " 691: 329939371,\n",
       " 692: 331373888,\n",
       " 693: 332812557,\n",
       " 694: 334255384,\n",
       " 695: 335702375,\n",
       " 696: 337153536,\n",
       " 697: 338608873,\n",
       " 698: 340068392,\n",
       " 699: 341532099,\n",
       " 700: 343000000,\n",
       " 701: 344472101,\n",
       " 702: 345948408,\n",
       " 703: 347428927,\n",
       " 704: 348913664,\n",
       " 705: 350402625,\n",
       " 706: 351895816,\n",
       " 707: 353393243,\n",
       " 708: 354894912,\n",
       " 709: 356400829,\n",
       " 710: 357911000,\n",
       " 711: 359425431,\n",
       " 712: 360944128,\n",
       " 713: 362467097,\n",
       " 714: 363994344,\n",
       " 715: 365525875,\n",
       " 716: 367061696,\n",
       " 717: 368601813,\n",
       " 718: 370146232,\n",
       " 719: 371694959,\n",
       " 720: 373248000,\n",
       " 721: 374805361,\n",
       " 722: 376367048,\n",
       " 723: 377933067,\n",
       " 724: 379503424,\n",
       " 725: 381078125,\n",
       " 726: 382657176,\n",
       " 727: 384240583,\n",
       " 728: 385828352,\n",
       " 729: 387420489,\n",
       " 730: 389017000,\n",
       " 731: 390617891,\n",
       " 732: 392223168,\n",
       " 733: 393832837,\n",
       " 734: 395446904,\n",
       " 735: 397065375,\n",
       " 736: 398688256,\n",
       " 737: 400315553,\n",
       " 738: 401947272,\n",
       " 739: 403583419,\n",
       " 740: 405224000,\n",
       " 741: 406869021,\n",
       " 742: 408518488,\n",
       " 743: 410172407,\n",
       " 744: 411830784,\n",
       " 745: 413493625,\n",
       " 746: 415160936,\n",
       " 747: 416832723,\n",
       " 748: 418508992,\n",
       " 749: 420189749,\n",
       " 750: 421875000,\n",
       " 751: 423564751,\n",
       " 752: 425259008,\n",
       " 753: 426957777,\n",
       " 754: 428661064,\n",
       " 755: 430368875,\n",
       " 756: 432081216,\n",
       " 757: 433798093,\n",
       " 758: 435519512,\n",
       " 759: 437245479,\n",
       " 760: 438976000,\n",
       " 761: 440711081,\n",
       " 762: 442450728,\n",
       " 763: 444194947,\n",
       " 764: 445943744,\n",
       " 765: 447697125,\n",
       " 766: 449455096,\n",
       " 767: 451217663,\n",
       " 768: 452984832,\n",
       " 769: 454756609,\n",
       " 770: 456533000,\n",
       " 771: 458314011,\n",
       " 772: 460099648,\n",
       " 773: 461889917,\n",
       " 774: 463684824,\n",
       " 775: 465484375,\n",
       " 776: 467288576,\n",
       " 777: 469097433,\n",
       " 778: 470910952,\n",
       " 779: 472729139,\n",
       " 780: 474552000,\n",
       " 781: 476379541,\n",
       " 782: 478211768,\n",
       " 783: 480048687,\n",
       " 784: 481890304,\n",
       " 785: 483736625,\n",
       " 786: 485587656,\n",
       " 787: 487443403,\n",
       " 788: 489303872,\n",
       " 789: 491169069,\n",
       " 790: 493039000,\n",
       " 791: 494913671,\n",
       " 792: 496793088,\n",
       " 793: 498677257,\n",
       " 794: 500566184,\n",
       " 795: 502459875,\n",
       " 796: 504358336,\n",
       " 797: 506261573,\n",
       " 798: 508169592,\n",
       " 799: 510082399,\n",
       " 800: 512000000,\n",
       " 801: 513922401,\n",
       " 802: 515849608,\n",
       " 803: 517781627,\n",
       " 804: 519718464,\n",
       " 805: 521660125,\n",
       " 806: 523606616,\n",
       " 807: 525557943,\n",
       " 808: 527514112,\n",
       " 809: 529475129,\n",
       " 810: 531441000,\n",
       " 811: 533411731,\n",
       " 812: 535387328,\n",
       " 813: 537367797,\n",
       " 814: 539353144,\n",
       " 815: 541343375,\n",
       " 816: 543338496,\n",
       " 817: 545338513,\n",
       " 818: 547343432,\n",
       " 819: 549353259,\n",
       " 820: 551368000,\n",
       " 821: 553387661,\n",
       " 822: 555412248,\n",
       " 823: 557441767,\n",
       " 824: 559476224,\n",
       " 825: 561515625,\n",
       " 826: 563559976,\n",
       " 827: 565609283,\n",
       " 828: 567663552,\n",
       " 829: 569722789,\n",
       " 830: 571787000,\n",
       " 831: 573856191,\n",
       " 832: 575930368,\n",
       " 833: 578009537,\n",
       " 834: 580093704,\n",
       " 835: 582182875,\n",
       " 836: 584277056,\n",
       " 837: 586376253,\n",
       " 838: 588480472,\n",
       " 839: 590589719,\n",
       " 840: 592704000,\n",
       " 841: 594823321,\n",
       " 842: 596947688,\n",
       " 843: 599077107,\n",
       " 844: 601211584,\n",
       " 845: 603351125,\n",
       " 846: 605495736,\n",
       " 847: 607645423,\n",
       " 848: 609800192,\n",
       " 849: 611960049,\n",
       " 850: 614125000,\n",
       " 851: 616295051,\n",
       " 852: 618470208,\n",
       " 853: 620650477,\n",
       " 854: 622835864,\n",
       " 855: 625026375,\n",
       " 856: 627222016,\n",
       " 857: 629422793,\n",
       " 858: 631628712,\n",
       " 859: 633839779,\n",
       " 860: 636056000,\n",
       " 861: 638277381,\n",
       " 862: 640503928,\n",
       " 863: 642735647,\n",
       " 864: 644972544,\n",
       " 865: 647214625,\n",
       " 866: 649461896,\n",
       " 867: 651714363,\n",
       " 868: 653972032,\n",
       " 869: 656234909,\n",
       " 870: 658503000,\n",
       " 871: 660776311,\n",
       " 872: 663054848,\n",
       " 873: 665338617,\n",
       " 874: 667627624,\n",
       " 875: 669921875,\n",
       " 876: 672221376,\n",
       " 877: 674526133,\n",
       " 878: 676836152,\n",
       " 879: 679151439,\n",
       " 880: 681472000,\n",
       " 881: 683797841,\n",
       " 882: 686128968,\n",
       " 883: 688465387,\n",
       " 884: 690807104,\n",
       " 885: 693154125,\n",
       " 886: 695506456,\n",
       " 887: 697864103,\n",
       " 888: 700227072,\n",
       " 889: 702595369,\n",
       " 890: 704969000,\n",
       " 891: 707347971,\n",
       " 892: 709732288,\n",
       " 893: 712121957,\n",
       " 894: 714516984,\n",
       " 895: 716917375,\n",
       " 896: 719323136,\n",
       " 897: 721734273,\n",
       " 898: 724150792,\n",
       " 899: 726572699,\n",
       " 900: 729000000,\n",
       " 901: 731432701,\n",
       " 902: 733870808,\n",
       " 903: 736314327,\n",
       " 904: 738763264,\n",
       " 905: 741217625,\n",
       " 906: 743677416,\n",
       " 907: 746142643,\n",
       " 908: 748613312,\n",
       " 909: 751089429,\n",
       " 910: 753571000,\n",
       " 911: 756058031,\n",
       " 912: 758550528,\n",
       " 913: 761048497,\n",
       " 914: 763551944,\n",
       " 915: 766060875,\n",
       " 916: 768575296,\n",
       " 917: 771095213,\n",
       " 918: 773620632,\n",
       " 919: 776151559,\n",
       " 920: 778688000,\n",
       " 921: 781229961,\n",
       " 922: 783777448,\n",
       " 923: 786330467,\n",
       " 924: 788889024,\n",
       " 925: 791453125,\n",
       " 926: 794022776,\n",
       " 927: 796597983,\n",
       " 928: 799178752,\n",
       " 929: 801765089,\n",
       " 930: 804357000,\n",
       " 931: 806954491,\n",
       " 932: 809557568,\n",
       " 933: 812166237,\n",
       " 934: 814780504,\n",
       " 935: 817400375,\n",
       " 936: 820025856,\n",
       " 937: 822656953,\n",
       " 938: 825293672,\n",
       " 939: 827936019,\n",
       " 940: 830584000,\n",
       " 941: 833237621,\n",
       " 942: 835896888,\n",
       " 943: 838561807,\n",
       " 944: 841232384,\n",
       " 945: 843908625,\n",
       " 946: 846590536,\n",
       " 947: 849278123,\n",
       " 948: 851971392,\n",
       " 949: 854670349,\n",
       " 950: 857375000,\n",
       " 951: 860085351,\n",
       " 952: 862801408,\n",
       " 953: 865523177,\n",
       " 954: 868250664,\n",
       " 955: 870983875,\n",
       " 956: 873722816,\n",
       " 957: 876467493,\n",
       " 958: 879217912,\n",
       " 959: 881974079,\n",
       " 960: 884736000,\n",
       " 961: 887503681,\n",
       " 962: 890277128,\n",
       " 963: 893056347,\n",
       " 964: 895841344,\n",
       " 965: 898632125,\n",
       " 966: 901428696,\n",
       " 967: 904231063,\n",
       " 968: 907039232,\n",
       " 969: 909853209,\n",
       " 970: 912673000,\n",
       " 971: 915498611,\n",
       " 972: 918330048,\n",
       " 973: 921167317,\n",
       " 974: 924010424,\n",
       " 975: 926859375,\n",
       " 976: 929714176,\n",
       " 977: 932574833,\n",
       " 978: 935441352,\n",
       " 979: 938313739,\n",
       " 980: 941192000,\n",
       " 981: 944076141,\n",
       " 982: 946966168,\n",
       " 983: 949862087,\n",
       " 984: 952763904,\n",
       " 985: 955671625,\n",
       " 986: 958585256,\n",
       " 987: 961504803,\n",
       " 988: 964430272,\n",
       " 989: 967361669,\n",
       " 990: 970299000,\n",
       " 991: 973242271,\n",
       " 992: 976191488,\n",
       " 993: 979146657,\n",
       " 994: 982107784,\n",
       " 995: 985074875,\n",
       " 996: 988047936,\n",
       " 997: 991026973,\n",
       " 998: 994011992,\n",
       " 999: 997002999,\n",
       " ...}"
      ]
     },
     "execution_count": 80,
     "metadata": {},
     "output_type": "execute_result"
    }
   ],
   "source": [
    "{i:i**3 for i in range(9999999)}"
   ]
  },
  {
   "cell_type": "code",
   "execution_count": 81,
   "id": "a283183b",
   "metadata": {},
   "outputs": [
    {
     "data": {
      "text/plain": [
       "dict_items([('rap', False), ('man', False), ('sam', False), ('sanjay', True)])"
      ]
     },
     "execution_count": 81,
     "metadata": {},
     "output_type": "execute_result"
    }
   ],
   "source": [
    "d.items()"
   ]
  },
  {
   "cell_type": "markdown",
   "id": "6099ce21",
   "metadata": {},
   "source": [
    "### Functions:  "
   ]
  },
  {
   "cell_type": "code",
   "execution_count": 82,
   "id": "39d38a8d",
   "metadata": {},
   "outputs": [
    {
     "name": "stdout",
     "output_type": "stream",
     "text": [
      "Hey this is  5\n"
     ]
    }
   ],
   "source": [
    "def test():\n",
    "    a = 2\n",
    "    b = 3\n",
    "    print(\"Hey this is \", a+b)\n",
    "test()"
   ]
  },
  {
   "cell_type": "code",
   "execution_count": 83,
   "id": "ba45f9b8",
   "metadata": {},
   "outputs": [
    {
     "name": "stdout",
     "output_type": "stream",
     "text": [
      "Hey this is  5\n"
     ]
    },
    {
     "data": {
      "text/plain": [
       "NoneType"
      ]
     },
     "execution_count": 83,
     "metadata": {},
     "output_type": "execute_result"
    }
   ],
   "source": [
    "type(test())"
   ]
  },
  {
   "cell_type": "markdown",
   "id": "7d5bde14",
   "metadata": {},
   "source": [
    "### It always store the data in NoneType, so that you cannot do this operation"
   ]
  },
  {
   "cell_type": "code",
   "execution_count": 84,
   "id": "6ec479d5",
   "metadata": {},
   "outputs": [
    {
     "name": "stdout",
     "output_type": "stream",
     "text": [
      "Hey this is  5\n"
     ]
    },
    {
     "ename": "TypeError",
     "evalue": "unsupported operand type(s) for +: 'NoneType' and 'int'",
     "output_type": "error",
     "traceback": [
      "\u001b[1;31m---------------------------------------------------------------------------\u001b[0m",
      "\u001b[1;31mTypeError\u001b[0m                                 Traceback (most recent call last)",
      "Cell \u001b[1;32mIn[84], line 1\u001b[0m\n\u001b[1;32m----> 1\u001b[0m \u001b[43mtest\u001b[49m\u001b[43m(\u001b[49m\u001b[43m)\u001b[49m\u001b[43m \u001b[49m\u001b[38;5;241;43m+\u001b[39;49m\u001b[43m \u001b[49m\u001b[38;5;241;43m10\u001b[39;49m\n",
      "\u001b[1;31mTypeError\u001b[0m: unsupported operand type(s) for +: 'NoneType' and 'int'"
     ]
    }
   ],
   "source": [
    "test() + 10"
   ]
  },
  {
   "cell_type": "code",
   "execution_count": 85,
   "id": "da4ccc29",
   "metadata": {},
   "outputs": [],
   "source": [
    "def test():\n",
    "    a = 1\n",
    "    b = 10\n",
    "    return a+b"
   ]
  },
  {
   "cell_type": "code",
   "execution_count": 86,
   "id": "f6d4c8bf",
   "metadata": {},
   "outputs": [
    {
     "data": {
      "text/plain": [
       "11"
      ]
     },
     "execution_count": 86,
     "metadata": {},
     "output_type": "execute_result"
    }
   ],
   "source": [
    "test()"
   ]
  },
  {
   "cell_type": "code",
   "execution_count": 87,
   "id": "3c6b11c9",
   "metadata": {},
   "outputs": [
    {
     "data": {
      "text/plain": [
       "int"
      ]
     },
     "execution_count": 87,
     "metadata": {},
     "output_type": "execute_result"
    }
   ],
   "source": [
    "type(test())"
   ]
  },
  {
   "cell_type": "code",
   "execution_count": 88,
   "id": "69b61b95",
   "metadata": {},
   "outputs": [
    {
     "data": {
      "text/plain": [
       "21"
      ]
     },
     "execution_count": 88,
     "metadata": {},
     "output_type": "execute_result"
    }
   ],
   "source": [
    "11 + 10"
   ]
  },
  {
   "cell_type": "code",
   "execution_count": 89,
   "id": "399e3c94",
   "metadata": {},
   "outputs": [
    {
     "data": {
      "text/plain": [
       "3011"
      ]
     },
     "execution_count": 89,
     "metadata": {},
     "output_type": "execute_result"
    }
   ],
   "source": [
    "test() + 3000"
   ]
  },
  {
   "cell_type": "code",
   "execution_count": 90,
   "id": "97f6d319",
   "metadata": {},
   "outputs": [],
   "source": [
    "def test(a,b):\n",
    "    return a+b"
   ]
  },
  {
   "cell_type": "code",
   "execution_count": 91,
   "id": "f3921741",
   "metadata": {},
   "outputs": [
    {
     "data": {
      "text/plain": [
       "9"
      ]
     },
     "execution_count": 91,
     "metadata": {},
     "output_type": "execute_result"
    }
   ],
   "source": [
    "test(4,5)"
   ]
  },
  {
   "cell_type": "code",
   "execution_count": 92,
   "id": "cedfd5d4",
   "metadata": {},
   "outputs": [
    {
     "data": {
      "text/plain": [
       "'DharmaTeja'"
      ]
     },
     "execution_count": 92,
     "metadata": {},
     "output_type": "execute_result"
    }
   ],
   "source": [
    "f = test('Dharma','Teja')\n",
    "f"
   ]
  },
  {
   "cell_type": "code",
   "execution_count": 93,
   "id": "7349b29a",
   "metadata": {},
   "outputs": [
    {
     "data": {
      "text/plain": [
       "str"
      ]
     },
     "execution_count": 93,
     "metadata": {},
     "output_type": "execute_result"
    }
   ],
   "source": [
    "type(test('y','x'))"
   ]
  },
  {
   "cell_type": "code",
   "execution_count": 94,
   "id": "ff8ec1ab",
   "metadata": {},
   "outputs": [
    {
     "data": {
      "text/plain": [
       "str"
      ]
     },
     "execution_count": 94,
     "metadata": {},
     "output_type": "execute_result"
    }
   ],
   "source": [
    "type(f)"
   ]
  },
  {
   "cell_type": "code",
   "execution_count": 95,
   "id": "b6ed5173",
   "metadata": {},
   "outputs": [],
   "source": [
    "def test(a,b):\n",
    "    return a+b, a*b, a/b, a%b"
   ]
  },
  {
   "cell_type": "code",
   "execution_count": 96,
   "id": "305c4fc8",
   "metadata": {},
   "outputs": [],
   "source": [
    "x,y,z,a = test(1,2)"
   ]
  },
  {
   "cell_type": "code",
   "execution_count": 97,
   "id": "2eef047a",
   "metadata": {},
   "outputs": [
    {
     "data": {
      "text/plain": [
       "3"
      ]
     },
     "execution_count": 97,
     "metadata": {},
     "output_type": "execute_result"
    }
   ],
   "source": [
    "x"
   ]
  },
  {
   "cell_type": "code",
   "execution_count": 98,
   "id": "a44228ae",
   "metadata": {},
   "outputs": [
    {
     "data": {
      "text/plain": [
       "2"
      ]
     },
     "execution_count": 98,
     "metadata": {},
     "output_type": "execute_result"
    }
   ],
   "source": [
    "y"
   ]
  },
  {
   "cell_type": "code",
   "execution_count": 99,
   "id": "b71de496",
   "metadata": {},
   "outputs": [
    {
     "data": {
      "text/plain": [
       "0.5"
      ]
     },
     "execution_count": 99,
     "metadata": {},
     "output_type": "execute_result"
    }
   ],
   "source": [
    "z"
   ]
  },
  {
   "cell_type": "code",
   "execution_count": 100,
   "id": "f37579e3",
   "metadata": {},
   "outputs": [
    {
     "data": {
      "text/plain": [
       "1"
      ]
     },
     "execution_count": 100,
     "metadata": {},
     "output_type": "execute_result"
    }
   ],
   "source": [
    "a"
   ]
  },
  {
   "cell_type": "code",
   "execution_count": 101,
   "id": "b9532b15",
   "metadata": {},
   "outputs": [],
   "source": [
    "m,n,o,p,q = 1,2,6,4,'Hey'"
   ]
  },
  {
   "cell_type": "code",
   "execution_count": 102,
   "id": "bbb35ad2",
   "metadata": {},
   "outputs": [
    {
     "data": {
      "text/plain": [
       "1"
      ]
     },
     "execution_count": 102,
     "metadata": {},
     "output_type": "execute_result"
    }
   ],
   "source": [
    "m"
   ]
  },
  {
   "cell_type": "code",
   "execution_count": 103,
   "id": "bc357184",
   "metadata": {},
   "outputs": [
    {
     "data": {
      "text/plain": [
       "2"
      ]
     },
     "execution_count": 103,
     "metadata": {},
     "output_type": "execute_result"
    }
   ],
   "source": [
    "n"
   ]
  },
  {
   "cell_type": "code",
   "execution_count": 104,
   "id": "8ec2d6f8",
   "metadata": {},
   "outputs": [
    {
     "data": {
      "text/plain": [
       "6"
      ]
     },
     "execution_count": 104,
     "metadata": {},
     "output_type": "execute_result"
    }
   ],
   "source": [
    "o"
   ]
  },
  {
   "cell_type": "code",
   "execution_count": 105,
   "id": "1cfe4341",
   "metadata": {},
   "outputs": [
    {
     "data": {
      "text/plain": [
       "4"
      ]
     },
     "execution_count": 105,
     "metadata": {},
     "output_type": "execute_result"
    }
   ],
   "source": [
    "p"
   ]
  },
  {
   "cell_type": "code",
   "execution_count": 106,
   "id": "55217845",
   "metadata": {},
   "outputs": [
    {
     "data": {
      "text/plain": [
       "'Hey'"
      ]
     },
     "execution_count": 106,
     "metadata": {},
     "output_type": "execute_result"
    }
   ],
   "source": [
    "q"
   ]
  },
  {
   "cell_type": "code",
   "execution_count": 107,
   "id": "609e8542",
   "metadata": {},
   "outputs": [],
   "source": [
    "def test(a,b):\n",
    "    return a*b, a-b"
   ]
  },
  {
   "cell_type": "code",
   "execution_count": 108,
   "id": "d12ddbfe",
   "metadata": {},
   "outputs": [],
   "source": [
    "y, _ = test(10,20)"
   ]
  },
  {
   "cell_type": "code",
   "execution_count": 109,
   "id": "6c0c3a81",
   "metadata": {},
   "outputs": [
    {
     "data": {
      "text/plain": [
       "200"
      ]
     },
     "execution_count": 109,
     "metadata": {},
     "output_type": "execute_result"
    }
   ],
   "source": [
    "y"
   ]
  },
  {
   "cell_type": "code",
   "execution_count": 110,
   "id": "9713a5bc",
   "metadata": {},
   "outputs": [
    {
     "data": {
      "text/plain": [
       "3"
      ]
     },
     "execution_count": 110,
     "metadata": {},
     "output_type": "execute_result"
    }
   ],
   "source": [
    "x"
   ]
  },
  {
   "cell_type": "code",
   "execution_count": 111,
   "id": "81213c23",
   "metadata": {},
   "outputs": [],
   "source": [
    "def test(a,b='sam'):\n",
    "    return a+b"
   ]
  },
  {
   "cell_type": "code",
   "execution_count": 112,
   "id": "71610904",
   "metadata": {},
   "outputs": [
    {
     "data": {
      "text/plain": [
       "'sanjaysam'"
      ]
     },
     "execution_count": 112,
     "metadata": {},
     "output_type": "execute_result"
    }
   ],
   "source": [
    "test('sanjay')"
   ]
  },
  {
   "cell_type": "code",
   "execution_count": 113,
   "id": "80cb6f10",
   "metadata": {},
   "outputs": [
    {
     "data": {
      "text/plain": [
       "'samsanjay'"
      ]
     },
     "execution_count": 113,
     "metadata": {},
     "output_type": "execute_result"
    }
   ],
   "source": [
    "test('sam', 'sanjay')"
   ]
  },
  {
   "cell_type": "code",
   "execution_count": 114,
   "id": "4d4cf95e",
   "metadata": {},
   "outputs": [
    {
     "data": {
      "text/plain": [
       "range(0, 100)"
      ]
     },
     "execution_count": 114,
     "metadata": {},
     "output_type": "execute_result"
    }
   ],
   "source": [
    "range(100)"
   ]
  },
  {
   "cell_type": "code",
   "execution_count": 115,
   "id": "53fa0634",
   "metadata": {},
   "outputs": [],
   "source": [
    "def test():\n",
    "    return 'hey', [1,3,4,4,5],{ 'Yes': 0,'No': 1}"
   ]
  },
  {
   "cell_type": "code",
   "execution_count": 116,
   "id": "b02acbad",
   "metadata": {},
   "outputs": [
    {
     "data": {
      "text/plain": [
       "('hey', [1, 3, 4, 4, 5], {'Yes': 0, 'No': 1})"
      ]
     },
     "execution_count": 116,
     "metadata": {},
     "output_type": "execute_result"
    }
   ],
   "source": [
    "test()"
   ]
  },
  {
   "cell_type": "code",
   "execution_count": 117,
   "id": "c2e3171f",
   "metadata": {},
   "outputs": [],
   "source": [
    "_,_, i = test()"
   ]
  },
  {
   "cell_type": "code",
   "execution_count": 118,
   "id": "bb9b6f58",
   "metadata": {},
   "outputs": [
    {
     "data": {
      "text/plain": [
       "{'Yes': 0, 'No': 1}"
      ]
     },
     "execution_count": 118,
     "metadata": {},
     "output_type": "execute_result"
    }
   ],
   "source": [
    "i"
   ]
  },
  {
   "cell_type": "code",
   "execution_count": 119,
   "id": "16499993",
   "metadata": {},
   "outputs": [
    {
     "data": {
      "text/plain": [
       "dict_keys(['Yes', 'No'])"
      ]
     },
     "execution_count": 119,
     "metadata": {},
     "output_type": "execute_result"
    }
   ],
   "source": [
    "i.keys()"
   ]
  },
  {
   "cell_type": "code",
   "execution_count": 120,
   "id": "620ff02d",
   "metadata": {},
   "outputs": [],
   "source": [
    "l = [1,2,3,3,4,4,44,4,2,2,3,1,1,22,3,3242,[13,3,3,3,3,2,2,1,1,4,45,6]]\n",
    "n = []\n",
    "for i in l:\n",
    "    if i == 3:\n",
    "        l.remove(3)\n",
    "    if type(i) == list:\n",
    "        for j in i :\n",
    "            if j == 3:\n",
    "                i.remove(3)\n",
    "            "
   ]
  },
  {
   "cell_type": "code",
   "execution_count": 121,
   "id": "92b8dfbe",
   "metadata": {},
   "outputs": [
    {
     "data": {
      "text/plain": [
       "[1, 2, 4, 4, 44, 4, 2, 2, 1, 1, 22, 3, 3242, [13, 3, 3, 2, 2, 1, 1, 4, 45, 6]]"
      ]
     },
     "execution_count": 121,
     "metadata": {},
     "output_type": "execute_result"
    }
   ],
   "source": [
    "l"
   ]
  },
  {
   "cell_type": "code",
   "execution_count": null,
   "id": "52199e21",
   "metadata": {},
   "outputs": [],
   "source": []
  }
 ],
 "metadata": {
  "kernelspec": {
   "display_name": "Python 3 (ipykernel)",
   "language": "python",
   "name": "python3"
  },
  "language_info": {
   "codemirror_mode": {
    "name": "ipython",
    "version": 3
   },
   "file_extension": ".py",
   "mimetype": "text/x-python",
   "name": "python",
   "nbconvert_exporter": "python",
   "pygments_lexer": "ipython3",
   "version": "3.10.9"
  }
 },
 "nbformat": 4,
 "nbformat_minor": 5
}
